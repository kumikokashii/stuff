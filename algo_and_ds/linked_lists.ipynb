{
 "cells": [
  {
   "cell_type": "code",
   "execution_count": 1,
   "metadata": {},
   "outputs": [],
   "source": [
    "class Node:\n",
    "    def __init__(self, value):\n",
    "        self.value = value\n",
    "        self.next_node = None\n",
    "\n",
    "class LinkedList:\n",
    "    def __init__(self):\n",
    "        self.head = None  # Node\n",
    "        \n",
    "    def __eq__(self, other):\n",
    "        self_pointer = self.head\n",
    "        other_pointer = other.head\n",
    "        \n",
    "        while True:\n",
    "            if self_pointer.value == other_pointer.value:\n",
    "                self_pointer = self_pointer.next_node\n",
    "                other_pointer = other_pointer.next_node\n",
    "                if (self_pointer is None) or (other_pointer is None):  # At least one linked list reaches the end\n",
    "                    break\n",
    "            else:\n",
    "                return False\n",
    "            \n",
    "        if (self_pointer is None) and (other_pointer is None):\n",
    "            return True\n",
    "        else:\n",
    "            return False\n",
    "        \n",
    "    def __str__(self):\n",
    "        output = []\n",
    "        pointer = self.head\n",
    "        while pointer is not None:\n",
    "            output.append(str(pointer.value))\n",
    "            if pointer.next_node is None:\n",
    "                break\n",
    "            else:\n",
    "                pointer = pointer.next_node\n",
    "        return ', '.join(output)\n",
    "    \n",
    "    def add_to_tail(self, value):\n",
    "        to_add = Node(value)\n",
    "        \n",
    "        if self.head is None:\n",
    "            self.head = to_add\n",
    "            return\n",
    "        \n",
    "        # Find the current tail\n",
    "        pointer = self.head\n",
    "        while pointer.next_node is not None:\n",
    "            pointer = pointer.next_node\n",
    "        pointer.next_node = to_add\n",
    "        return\n",
    "\n",
    "    def get_ll_from_list(lst):  # Static\n",
    "        ll = LinkedList()\n",
    "        for value in lst:\n",
    "            ll.add_to_tail(value)\n",
    "        return ll"
   ]
  },
  {
   "cell_type": "code",
   "execution_count": 2,
   "metadata": {},
   "outputs": [
    {
     "data": {
      "text/plain": [
       "'1, 1, 2, 3, 5'"
      ]
     },
     "execution_count": 2,
     "metadata": {},
     "output_type": "execute_result"
    }
   ],
   "source": [
    "ll = LinkedList.get_ll_from_list([1, 1, 2, 3, 5])\n",
    "str(ll)"
   ]
  },
  {
   "cell_type": "markdown",
   "metadata": {},
   "source": [
    "## Write a function to remove duplicates from an unsorted linked list"
   ]
  },
  {
   "cell_type": "code",
   "execution_count": 3,
   "metadata": {},
   "outputs": [],
   "source": [
    "def remove_duplicates_1(ll):  # With a hash set, O(n)\n",
    "    in_ll = set()\n",
    "    \n",
    "    previous = None\n",
    "    pointer = ll.head\n",
    "    while pointer is not None:\n",
    "        if pointer.value in in_ll:  # If duplicate, skip\n",
    "            previous.next_node = pointer.next_node\n",
    "        else:\n",
    "            in_ll.add(pointer.value)\n",
    "            previous = pointer\n",
    "        pointer = pointer.next_node\n",
    "        \n",
    "    return ll\n",
    "\n",
    "assert(str(remove_duplicates_1(LinkedList.get_ll_from_list([1, 1, 2, 3, 5, 1]))) == '1, 2, 3, 5')\n",
    "assert(str(remove_duplicates_1(LinkedList.get_ll_from_list([3, 3, 17, 3, 17]))) == '3, 17')\n",
    "assert(str(remove_duplicates_1(LinkedList.get_ll_from_list([6, 7, 8, 9]))) == '6, 7, 8, 9')"
   ]
  },
  {
   "cell_type": "code",
   "execution_count": 4,
   "metadata": {},
   "outputs": [],
   "source": [
    "def remove_duplicates_2(ll):  # Without extra space, O(n^2)\n",
    "    p1 = ll.head  # Init p1\n",
    "    while p1 is not None:\n",
    "        p2 = p1  # Init p2\n",
    "        while (p2 is not None) and (p2.next_node is not None):\n",
    "            if p2.next_node.value == p1.value:\n",
    "                p2.next_node = None if (p2.next_node.next_node is None) else p2.next_node.next_node\n",
    "            p2 = p2.next_node\n",
    "        p1 = p1.next_node\n",
    "    return ll\n",
    "\n",
    "assert(str(remove_duplicates_2(LinkedList.get_ll_from_list([1, 1, 2, 3, 5, 1]))) == '1, 2, 3, 5')\n",
    "assert(str(remove_duplicates_2(LinkedList.get_ll_from_list([3, 3, 17, 3, 17]))) == '3, 17')\n",
    "assert(str(remove_duplicates_2(LinkedList.get_ll_from_list([6, 7, 8, 9]))) == '6, 7, 8, 9')"
   ]
  },
  {
   "cell_type": "markdown",
   "metadata": {},
   "source": [
    "## Write a function to find the kth to last element (k is 0-based)"
   ]
  },
  {
   "cell_type": "code",
   "execution_count": 5,
   "metadata": {},
   "outputs": [],
   "source": [
    "def find_kth_to_last_1(ll, k):  # Brute force way :(\n",
    "    # Find length of ll\n",
    "    len_ = 0\n",
    "    pointer = ll.head\n",
    "    while pointer is not None:\n",
    "        len_ += 1\n",
    "        pointer = pointer.next_node\n",
    "    \n",
    "    if (len_ - k - 1) < 0:  # Out of bounds\n",
    "        return None\n",
    "    \n",
    "    # Find kth from last\n",
    "    pointer = ll.head\n",
    "    for i in range(len_ - k - 1):\n",
    "        pointer = pointer.next_node\n",
    "        \n",
    "    return pointer.value\n",
    "    \n",
    "assert(find_kth_to_last_1(LinkedList.get_ll_from_list([1, 1, 2, 3]), k=1) == 2)\n",
    "assert(find_kth_to_last_1(LinkedList.get_ll_from_list([9, 8, 7, 6]), k=2) == 8)\n",
    "assert(find_kth_to_last_1(LinkedList.get_ll_from_list([777]), k=1) is None)"
   ]
  },
  {
   "cell_type": "code",
   "execution_count": 6,
   "metadata": {},
   "outputs": [],
   "source": [
    "def find_kth_to_last_2(ll, k):  # Runner way ^_^\n",
    "    # Fast-forward the runner by k+1\n",
    "    runner = ll.head\n",
    "    for i in range(k + 1):\n",
    "        if runner is None:  # Out of bounds\n",
    "            return None\n",
    "        runner = runner.next_node\n",
    "        \n",
    "    # When runner reaches the end, the main pointer is kth from last\n",
    "    pointer = ll.head\n",
    "    while runner is not None:\n",
    "        runner = runner.next_node\n",
    "        pointer = pointer.next_node\n",
    "        \n",
    "    return pointer.value\n",
    "    \n",
    "assert(find_kth_to_last_2(LinkedList.get_ll_from_list([1, 1, 2, 3]), k=1) == 2)\n",
    "assert(find_kth_to_last_2(LinkedList.get_ll_from_list([9, 8, 7, 6]), k=2) == 8)\n",
    "assert(find_kth_to_last_2(LinkedList.get_ll_from_list([777]), k=1) is None)"
   ]
  },
  {
   "cell_type": "code",
   "execution_count": 7,
   "metadata": {},
   "outputs": [],
   "source": [
    "def find_kth_to_last_3(ll, k):  # Recursive\n",
    "    \n",
    "    def recursive_get_kth_to_last(head_node, k):\n",
    "        if head_node.next_node is None:\n",
    "            if k == 0:\n",
    "                return (head_node, 0)\n",
    "            return (None, 0)\n",
    "        \n",
    "        node, index = recursive_get_kth_to_last(head_node.next_node, k)\n",
    "        index += 1\n",
    "        if index == k:\n",
    "            return (head_node, k)\n",
    "        return (node, index)\n",
    "    \n",
    "    node, index = recursive_get_kth_to_last(ll.head, k)\n",
    "    if node is None:\n",
    "        return None\n",
    "    return node.value\n",
    "    \n",
    "assert(find_kth_to_last_3(LinkedList.get_ll_from_list([1, 1, 2, 3]), k=1) == 2)\n",
    "assert(find_kth_to_last_3(LinkedList.get_ll_from_list([9, 8, 7, 6]), k=2) == 8)\n",
    "assert(find_kth_to_last_3(LinkedList.get_ll_from_list([777]), k=1) is None)"
   ]
  },
  {
   "cell_type": "markdown",
   "metadata": {},
   "source": [
    "## Write a function to remove a specified node. (Not given the linked list)"
   ]
  },
  {
   "cell_type": "code",
   "execution_count": 8,
   "metadata": {},
   "outputs": [],
   "source": [
    "def remove_a_node(n):\n",
    "    n.value = n.next_node.value\n",
    "    n.next_node = n.next_node.next_node\n",
    "    return"
   ]
  },
  {
   "cell_type": "code",
   "execution_count": 9,
   "metadata": {},
   "outputs": [],
   "source": [
    "n1 = Node(3)\n",
    "n2 = Node(4)\n",
    "n3 = Node(5)\n",
    "n4 = Node(6)\n",
    "\n",
    "ll = LinkedList()\n",
    "ll.head = n1\n",
    "n1.next_node = n2\n",
    "n2.next_node = n3\n",
    "n3.next_node = n4\n",
    "\n",
    "# str(ll) == '3, 4, 5, 6'\n",
    "\n",
    "remove_a_node(n2)\n",
    "\n",
    "assert(str(ll) == '3, 5, 6')"
   ]
  },
  {
   "cell_type": "markdown",
   "metadata": {},
   "source": [
    "## Write a function to rearrange nodes so that, given a value x, all nodes less than x come first and all nodes greater than or equal to x come later. The partition element x does not need to appear between left and right partitions."
   ]
  },
  {
   "cell_type": "code",
   "execution_count": 10,
   "metadata": {},
   "outputs": [],
   "source": [
    "def partition_by_value_1(ll, x):\n",
    "    # Divide into two groups, smaller than x, and equal to or greater than x\n",
    "    part1_list = []  # Smaller than x\n",
    "    part2_list = []  # Equal to or greater than x\n",
    "    \n",
    "    pointer = ll.head\n",
    "    while pointer is not None:\n",
    "        if pointer.value < x:\n",
    "            part1_list.append(pointer)\n",
    "        else:\n",
    "            part2_list.append(pointer)\n",
    "        pointer = pointer.next_node\n",
    "        \n",
    "    # Connect all\n",
    "    combined_list = part1_list + part2_list\n",
    "    ll.head = combined_list[0]\n",
    "    pointer = ll.head\n",
    "    for node in combined_list[1:]:\n",
    "        pointer.next_node = node\n",
    "        pointer = node\n",
    "    pointer.next_node = None\n",
    "    \n",
    "    return ll\n",
    "        \n",
    "assert(partition_by_value_1(LinkedList.get_ll_from_list([5, 2, 1, 3, 4]), 3) == LinkedList.get_ll_from_list([2, 1, 5, 3, 4]))\n",
    "assert(partition_by_value_1(LinkedList.get_ll_from_list([5, 2, 1, 3, 4]), 2) == LinkedList.get_ll_from_list([1, 5, 2, 3, 4]))\n",
    "assert(partition_by_value_1(LinkedList.get_ll_from_list([1, 3, 4]), 5) == LinkedList.get_ll_from_list([1, 3, 4]))\n",
    "assert(partition_by_value_1(LinkedList.get_ll_from_list([7, 8, 9]), 5) == LinkedList.get_ll_from_list([7, 8, 9]))"
   ]
  },
  {
   "cell_type": "code",
   "execution_count": 11,
   "metadata": {},
   "outputs": [],
   "source": [
    "def partition_by_value_2(ll, x):\n",
    "    pointer = ll.head\n",
    "    end_of_1st = None\n",
    "    start_of_2nd = None\n",
    "    end_of_2nd = None\n",
    "    \n",
    "    while pointer is not None:\n",
    "        if pointer.value < x:\n",
    "            if end_of_1st is not None:\n",
    "                end_of_1st.next_node = pointer\n",
    "            else:\n",
    "                ll.head = pointer\n",
    "            end_of_1st = pointer\n",
    "        else:\n",
    "            if end_of_2nd is not None:\n",
    "                end_of_2nd.next_node = pointer\n",
    "            else:\n",
    "                start_of_2nd = pointer\n",
    "            end_of_2nd = pointer\n",
    "        pointer = pointer.next_node\n",
    "    \n",
    "    # Edge cases\n",
    "    if end_of_2nd is None:  # If all nodes are smaller than x\n",
    "        end_of_1st.next_node = None\n",
    "    else:\n",
    "        end_of_2nd.next_node = None\n",
    "        \n",
    "    if end_of_1st is None:  # If all nodes are equal to or greater than x\n",
    "        ll.head = start_of_2nd\n",
    "    else:\n",
    "        end_of_1st.next_node = start_of_2nd\n",
    "            \n",
    "    return ll\n",
    "        \n",
    "assert(partition_by_value_2(LinkedList.get_ll_from_list([5, 2, 1, 3, 4]), 3) == LinkedList.get_ll_from_list([2, 1, 5, 3, 4]))\n",
    "assert(partition_by_value_2(LinkedList.get_ll_from_list([5, 2, 1, 3, 4]), 2) == LinkedList.get_ll_from_list([1, 5, 2, 3, 4]))\n",
    "assert(partition_by_value_2(LinkedList.get_ll_from_list([1, 3, 4]), 5) == LinkedList.get_ll_from_list([1, 3, 4]))\n",
    "assert(partition_by_value_2(LinkedList.get_ll_from_list([7, 8, 9]), 5) == LinkedList.get_ll_from_list([7, 8, 9]))"
   ]
  },
  {
   "cell_type": "markdown",
   "metadata": {},
   "source": [
    "## Write a function that adds two digits represented as linked lists. The digits are stored in reverse order (9 -> 3 -> 5 is 539). Output is also a linked list of the same kind."
   ]
  },
  {
   "cell_type": "code",
   "execution_count": 27,
   "metadata": {},
   "outputs": [],
   "source": [
    "def add(ll1, ll2):\n",
    "    output = LinkedList()\n",
    "    \n",
    "    pointer_1 = ll1.head\n",
    "    pointer_2 = ll2.head\n",
    "    carryover = 0\n",
    "    while (pointer_1 is not None) or (pointer_2 is not None):\n",
    "        value_1 = pointer_1.value if (pointer_1 is not None) else 0\n",
    "        value_2 = pointer_2.value if (pointer_2 is not None) else 0\n",
    "        sum_ = value_1 + value_2 + carryover\n",
    "        output.add_to_tail(sum_ % 10)\n",
    "        carryover = sum_ // 10\n",
    "        \n",
    "        pointer_1 = pointer_1.next_node if (pointer_1 is not None) else None\n",
    "        pointer_2 = pointer_2.next_node if (pointer_2 is not None) else None\n",
    "        \n",
    "    if carryover > 0:\n",
    "        output.add_to_tail(carryover)\n",
    "                                \n",
    "    return output\n",
    "\n",
    "assert(add(LinkedList.get_ll_from_list([7, 1, 6]), \n",
    "           LinkedList.get_ll_from_list([5, 9, 2])) == LinkedList.get_ll_from_list([2, 1, 9]))\n",
    "assert(add(LinkedList.get_ll_from_list([9]), \n",
    "           LinkedList.get_ll_from_list([1, 2, 3])) == LinkedList.get_ll_from_list([0, 3, 3]))\n",
    "assert(add(LinkedList.get_ll_from_list([9, 7, 8]), \n",
    "           LinkedList.get_ll_from_list([6, 8, 5])) == LinkedList.get_ll_from_list([5, 6, 4, 1]))"
   ]
  },
  {
   "cell_type": "code",
   "execution_count": null,
   "metadata": {},
   "outputs": [],
   "source": []
  }
 ],
 "metadata": {
  "kernelspec": {
   "display_name": "Python 3",
   "language": "python",
   "name": "python3"
  },
  "language_info": {
   "codemirror_mode": {
    "name": "ipython",
    "version": 3
   },
   "file_extension": ".py",
   "mimetype": "text/x-python",
   "name": "python",
   "nbconvert_exporter": "python",
   "pygments_lexer": "ipython3",
   "version": "3.5.4"
  }
 },
 "nbformat": 4,
 "nbformat_minor": 2
}
