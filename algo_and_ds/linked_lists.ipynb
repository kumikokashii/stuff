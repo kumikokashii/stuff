{
 "cells": [
  {
   "cell_type": "code",
   "execution_count": 1,
   "metadata": {},
   "outputs": [],
   "source": [
    "class Node:\n",
    "    def __init__(self, value):\n",
    "        self.value = value\n",
    "        self.next_node = None\n",
    "\n",
    "class LinkedList:\n",
    "    def __init__(self):\n",
    "        self.head = None  # Node\n",
    "    \n",
    "    def __str__(self):\n",
    "        output = []\n",
    "        pointer = self.head\n",
    "        while pointer is not None:\n",
    "            output.append(str(pointer.value))\n",
    "            if pointer.next_node is None:\n",
    "                break\n",
    "            else:\n",
    "                pointer = pointer.next_node\n",
    "        return ', '.join(output)\n",
    "    \n",
    "    def add_to_tail(self, value):\n",
    "        to_add = Node(value)\n",
    "        \n",
    "        if self.head is None:\n",
    "            self.head = to_add\n",
    "            return\n",
    "        \n",
    "        # Find the current tail\n",
    "        pointer = self.head\n",
    "        while pointer.next_node is not None:\n",
    "            pointer = pointer.next_node\n",
    "        pointer.next_node = to_add\n",
    "        return\n",
    "\n",
    "    def get_ll_from_list(lst):  # Static\n",
    "        ll = LinkedList()\n",
    "        for value in lst:\n",
    "            ll.add_to_tail(value)\n",
    "        return ll"
   ]
  },
  {
   "cell_type": "code",
   "execution_count": 2,
   "metadata": {},
   "outputs": [
    {
     "data": {
      "text/plain": [
       "'1, 1, 2, 3, 5'"
      ]
     },
     "execution_count": 2,
     "metadata": {},
     "output_type": "execute_result"
    }
   ],
   "source": [
    "ll = LinkedList.get_ll_from_list([1, 1, 2, 3, 5])\n",
    "str(ll)"
   ]
  },
  {
   "cell_type": "markdown",
   "metadata": {},
   "source": [
    "## Write a function to remove duplicates from an unsorted linked list"
   ]
  },
  {
   "cell_type": "code",
   "execution_count": 3,
   "metadata": {},
   "outputs": [],
   "source": [
    "def remove_duplicates_1(ll):  # With a hash set, O(n)\n",
    "    in_ll = set()\n",
    "    \n",
    "    previous = None\n",
    "    pointer = ll.head\n",
    "    while pointer is not None:\n",
    "        if pointer.value in in_ll:  # If duplicate, skip\n",
    "            previous.next_node = pointer.next_node\n",
    "        else:\n",
    "            in_ll.add(pointer.value)\n",
    "            previous = pointer\n",
    "        pointer = pointer.next_node\n",
    "        \n",
    "    return ll\n",
    "\n",
    "assert(str(remove_duplicates_1(LinkedList.get_ll_from_list([1, 1, 2, 3, 5, 1]))) == '1, 2, 3, 5')\n",
    "assert(str(remove_duplicates_1(LinkedList.get_ll_from_list([3, 3, 17, 3, 17]))) == '3, 17')\n",
    "assert(str(remove_duplicates_1(LinkedList.get_ll_from_list([6, 7, 8, 9]))) == '6, 7, 8, 9')"
   ]
  },
  {
   "cell_type": "code",
   "execution_count": 4,
   "metadata": {},
   "outputs": [],
   "source": [
    "def remove_duplicates_2(ll):  # Without extra space, O(n^2)\n",
    "    p1 = ll.head  # Init p1\n",
    "    while p1 is not None:\n",
    "        p2 = p1  # Init p2\n",
    "        while (p2 is not None) and (p2.next_node is not None):\n",
    "            if p2.next_node.value == p1.value:\n",
    "                p2.next_node = None if (p2.next_node.next_node is None) else p2.next_node.next_node\n",
    "            p2 = p2.next_node\n",
    "        p1 = p1.next_node\n",
    "    return ll\n",
    "\n",
    "assert(str(remove_duplicates_2(LinkedList.get_ll_from_list([1, 1, 2, 3, 5, 1]))) == '1, 2, 3, 5')\n",
    "assert(str(remove_duplicates_2(LinkedList.get_ll_from_list([3, 3, 17, 3, 17]))) == '3, 17')\n",
    "assert(str(remove_duplicates_2(LinkedList.get_ll_from_list([6, 7, 8, 9]))) == '6, 7, 8, 9')"
   ]
  },
  {
   "cell_type": "code",
   "execution_count": null,
   "metadata": {},
   "outputs": [],
   "source": []
  }
 ],
 "metadata": {
  "kernelspec": {
   "display_name": "Python 3",
   "language": "python",
   "name": "python3"
  },
  "language_info": {
   "codemirror_mode": {
    "name": "ipython",
    "version": 3
   },
   "file_extension": ".py",
   "mimetype": "text/x-python",
   "name": "python",
   "nbconvert_exporter": "python",
   "pygments_lexer": "ipython3",
   "version": "3.5.4"
  }
 },
 "nbformat": 4,
 "nbformat_minor": 2
}
