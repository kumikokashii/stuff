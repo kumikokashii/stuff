{
 "cells": [
  {
   "cell_type": "markdown",
   "metadata": {},
   "source": [
    "### Interview question for ML Engineer at a professional networking site (February, 2018)"
   ]
  },
  {
   "cell_type": "markdown",
   "metadata": {},
   "source": [
    "/\\* This class will be given a list of words (such as might be tokenized<br>\n",
    "&nbsp;\\* from a paragraph of text), and will provide a method that takes two<br>\n",
    "&nbsp;\\* words and returns the shortest distance (in words) between those two<br>\n",
    "&nbsp;\\* words in the provided text.<br>\n",
    "&nbsp;\\* Example:<br>\n",
    "&nbsp;\\*   WordDistanceFinder finder = new WordDistanceFinder(Arrays.asList(\"the\", \"quick\", \"brown\", \"fox\", \"quick\"));<br>\n",
    "&nbsp;\\*   assert(finder.distance(\"fox\", \"the\") == 3);<br>\n",
    "&nbsp;\\*   assert(finder.distance(\"quick\", \"fox\") == 1);<br>\n",
    "&nbsp;\\*<br>\n",
    "&nbsp;\\* \"quick\" appears twice in the input. There are two possible distance values for \"quick\" and \"fox\":<br>\n",
    "&nbsp;\\*     (3 - 1) = 2 and (4 - 3) = 1.<br>\n",
    "&nbsp;\\* Since we have to return the shortest distance between the two words we return 1.<br>\n",
    "&nbsp;\\*/<br>\n",
    "public class WordDistanceFinder {<br>\n",
    "&nbsp;&nbsp;&nbsp;&nbsp;&nbsp;&nbsp;&nbsp;&nbsp;public WordDistanceFinder (List&lt;String&gt; words) {<br>\n",
    "&nbsp;&nbsp;&nbsp;&nbsp;&nbsp;&nbsp;&nbsp;&nbsp;&nbsp;&nbsp;&nbsp;&nbsp;&nbsp;&nbsp;&nbsp;&nbsp;// implementation here<br>\n",
    "&nbsp;&nbsp;&nbsp;&nbsp;&nbsp;&nbsp;&nbsp;&nbsp;}<br>\n",
    "&nbsp;&nbsp;&nbsp;&nbsp;&nbsp;&nbsp;&nbsp;&nbsp;public int distance (String wordOne, String wordTwo) {<br>\n",
    "&nbsp;&nbsp;&nbsp;&nbsp;&nbsp;&nbsp;&nbsp;&nbsp;&nbsp;&nbsp;&nbsp;&nbsp;&nbsp;&nbsp;&nbsp;&nbsp;// implementation here<br>\n",
    "&nbsp;&nbsp;&nbsp;&nbsp;&nbsp;&nbsp;&nbsp;&nbsp;}<br>\n",
    "}"
   ]
  },
  {
   "cell_type": "code",
   "execution_count": 1,
   "metadata": {},
   "outputs": [],
   "source": [
    "def find_min_dist(word_list, w1, w2):\n",
    "    min_ = float('inf')\n",
    "    found = None\n",
    "    to_find = None\n",
    "    i_found = -1\n",
    "    \n",
    "    def get_other(w):\n",
    "        if w == w1:\n",
    "            return w2\n",
    "        if w == w2:\n",
    "            return w1\n",
    "    \n",
    "    for i in range(len(word_list)):\n",
    "        word = word_list[i]\n",
    "        if found is None:  # Find first occurence of w1 or w2\n",
    "            if word in [w1, w2]:\n",
    "                found = word\n",
    "                to_find = get_other(found)\n",
    "                i_found = i\n",
    "                continue\n",
    "                \n",
    "        if word == to_find:\n",
    "            dist = i - i_found\n",
    "            if dist < min_:\n",
    "                min_ = dist\n",
    "            found = word\n",
    "            to_find = get_other(found)\n",
    "            i_found = i\n",
    "            \n",
    "    return min_"
   ]
  },
  {
   "cell_type": "code",
   "execution_count": 2,
   "metadata": {},
   "outputs": [],
   "source": [
    "wl = [\"the\", \"quick\", \"brown\", \"fox\", \"quick\"]\n",
    "assert(find_min_dist(wl, 'fox', 'the') == 3)\n",
    "assert(find_min_dist(wl, 'quick', 'fox') == 1)"
   ]
  },
  {
   "cell_type": "code",
   "execution_count": null,
   "metadata": {},
   "outputs": [],
   "source": []
  }
 ],
 "metadata": {
  "kernelspec": {
   "display_name": "Python 3",
   "language": "python",
   "name": "python3"
  },
  "language_info": {
   "codemirror_mode": {
    "name": "ipython",
    "version": 3
   },
   "file_extension": ".py",
   "mimetype": "text/x-python",
   "name": "python",
   "nbconvert_exporter": "python",
   "pygments_lexer": "ipython3",
   "version": "3.5.4"
  }
 },
 "nbformat": 4,
 "nbformat_minor": 2
}
