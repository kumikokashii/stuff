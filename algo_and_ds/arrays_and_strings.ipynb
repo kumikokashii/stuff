{
 "cells": [
  {
   "cell_type": "markdown",
   "metadata": {},
   "source": [
    "## Write a function to check if all characters in a string are unique"
   ]
  },
  {
   "cell_type": "code",
   "execution_count": 1,
   "metadata": {},
   "outputs": [],
   "source": [
    "def all_chars_are_unique_1(s):  # Using a hash set\n",
    "    in_s = set()\n",
    "    for c in s:\n",
    "        if c in in_s:\n",
    "            return False\n",
    "        in_s.add(c)\n",
    "    return True\n",
    "\n",
    "assert(all_chars_are_unique_1('abc') == True)\n",
    "assert(all_chars_are_unique_1('abc^_^') == False)\n",
    "assert(all_chars_are_unique_1('blueberry') == False)\n",
    "assert(all_chars_are_unique_1('oyster') == True)"
   ]
  },
  {
   "cell_type": "code",
   "execution_count": 2,
   "metadata": {},
   "outputs": [],
   "source": [
    "def all_chars_are_unique_2(s):  # Without using another data structure\n",
    "    sorted_s = ''.join(sorted(s))  # O(nlogn)\n",
    "    for i in range(len(sorted_s) - 1):  # O(n)\n",
    "        if sorted_s[i] == sorted_s[i + 1]:\n",
    "            return False\n",
    "    return True\n",
    "\n",
    "assert(all_chars_are_unique_2('abc') == True)\n",
    "assert(all_chars_are_unique_2('abc^_^') == False)\n",
    "assert(all_chars_are_unique_2('blueberry') == False)\n",
    "assert(all_chars_are_unique_2('oyster') == True)"
   ]
  },
  {
   "cell_type": "markdown",
   "metadata": {},
   "source": [
    "## Write a function to check, given two strings, if one is a permutation of the other"
   ]
  },
  {
   "cell_type": "code",
   "execution_count": 3,
   "metadata": {},
   "outputs": [],
   "source": [
    "def are_perm_1(s1, s2):  # O(nlogn)\n",
    "    if len(s1) != len(s2):\n",
    "        return False\n",
    "    \n",
    "    sorted_s1 = ''.join(sorted(s1))\n",
    "    sorted_s2 = ''.join(sorted(s2))\n",
    "    return sorted_s1 == sorted_s2\n",
    "\n",
    "assert(are_perm_1('abc', 'cba') == True)\n",
    "assert(are_perm_1('hohoho', 'hohoh') == False)\n",
    "assert(are_perm_1('hohoho', 'hohoh!') == False)"
   ]
  },
  {
   "cell_type": "code",
   "execution_count": 4,
   "metadata": {},
   "outputs": [],
   "source": [
    "def are_perm_2(s1, s2):  # O(n)\n",
    "    if len(s1) != len(s2):\n",
    "        return False\n",
    "    \n",
    "    # Count characters for the first string\n",
    "    count_s1 = {}\n",
    "    for i in range(len(s1)):\n",
    "        c1 = s1[i]\n",
    "        if c1 in count_s1:\n",
    "            count_s1[c1] += 1\n",
    "        else:\n",
    "            count_s1[c1] = 1\n",
    "            \n",
    "    # NOTE: No need to count s2 characters in a separate dictionary, to later compare count_s1 and count_s2.\n",
    "    # By decreasing the char count per character below, we save space.\n",
    "            \n",
    "    # Decrease what shows up in the second string\n",
    "    for i in range(len(s2)):\n",
    "        c2 = s2[i]\n",
    "        if c2 not in count_s1:\n",
    "            return False\n",
    "        count_s1[c2] -= 1\n",
    "        if count_s1[c2] < 0:\n",
    "            return False\n",
    "    return True\n",
    "\n",
    "assert(are_perm_2('abc', 'cba') == True)\n",
    "assert(are_perm_2('hohoho', 'hohoh') == False)\n",
    "assert(are_perm_2('hohoho', 'hohoh!') == False)"
   ]
  },
  {
   "cell_type": "markdown",
   "metadata": {},
   "source": [
    "## Write a function to replace all spaces in a string with '%20'. True length of the string is given (excluding the spaces at the end)."
   ]
  },
  {
   "cell_type": "code",
   "execution_count": 5,
   "metadata": {},
   "outputs": [],
   "source": [
    "def replace_spaces(s, num_char):\n",
    "    trimmed_s = s[: num_char]\n",
    "    return trimmed_s.replace(' ', '%20')\n",
    "\n",
    "assert(replace_spaces('Mr John Smith    ', 13) == 'Mr%20John%20Smith')"
   ]
  },
  {
   "cell_type": "markdown",
   "metadata": {},
   "source": [
    "## Write a function to check if a string is a permutation of a palindrome"
   ]
  },
  {
   "cell_type": "code",
   "execution_count": 6,
   "metadata": {},
   "outputs": [],
   "source": [
    "def is_permutation_of_palindrome_1(s):  # Count the number of characters with an odd count\n",
    "    # If len(s) is odd, exactly 1 char should have an odd count. Impossible to have 0 odd count i.e. all even to sum up to odd.\n",
    "    # If len(s) is even, exactly 0 char should have an odd count. Impossible to have 1 odd count to sum up to even.\n",
    "    \n",
    "    # Count characters in s\n",
    "    char_count = {}\n",
    "    odd_char_count = 0\n",
    "    for c in s:\n",
    "        c = c.lower()\n",
    "        if c in char_count:\n",
    "            char_count[c] += 1\n",
    "            if char_count[c] % 2 == 0:\n",
    "                odd_char_count -= 1\n",
    "            else:\n",
    "                odd_char_count += 1\n",
    "        else:\n",
    "            char_count[c] = 1\n",
    "            odd_char_count += 1\n",
    "                \n",
    "    # Check\n",
    "    return odd_char_count <= 1\n",
    "    \n",
    "assert(is_permutation_of_palindrome_1('Tact Coa') == False)\n",
    "assert(is_permutation_of_palindrome_1('Tommto') == True)\n",
    "assert(is_permutation_of_palindrome_1('_vw^^') == False)\n",
    "assert(is_permutation_of_palindrome_1('_vv^^') == True)\n",
    "assert(is_permutation_of_palindrome_1('cup') == False)"
   ]
  },
  {
   "cell_type": "code",
   "execution_count": 7,
   "metadata": {},
   "outputs": [],
   "source": [
    "def is_permutation_of_palindrome_2(s):  # Same as above, but just odd or not for each character\n",
    "    char_is_odd = [False for i in range(128)]  # There are 128 ascii codes: https://ascii.cl/\n",
    "    \n",
    "    for c in s:\n",
    "        ascii_code = ord(c.lower())\n",
    "        char_is_odd[ascii_code] = not char_is_odd[ascii_code]  # Flip True/False\n",
    "        \n",
    "    odd_char_count = 0\n",
    "    for is_odd in char_is_odd:\n",
    "        if is_odd:\n",
    "            odd_char_count += 1\n",
    "            if odd_char_count > 1:\n",
    "                return False\n",
    "    return True\n",
    "    \n",
    "assert(is_permutation_of_palindrome_2('Tact Coa') == False)\n",
    "assert(is_permutation_of_palindrome_2('Tommto') == True)\n",
    "assert(is_permutation_of_palindrome_2('_vw^^') == False)\n",
    "assert(is_permutation_of_palindrome_2('_vv^^') == True)\n",
    "assert(is_permutation_of_palindrome_2('cup') == False)"
   ]
  },
  {
   "cell_type": "markdown",
   "metadata": {},
   "source": [
    "## Given two strings, write a function to check if one is an edit away (insert, remove, or replace a character) from the other"
   ]
  },
  {
   "cell_type": "code",
   "execution_count": 8,
   "metadata": {},
   "outputs": [],
   "source": [
    "def is_an_edit_away(s1, s2):\n",
    "    if abs(len(s1) - len(s2)) > 1:\n",
    "        return False\n",
    "    \n",
    "    if len(s1) == len(s2):\n",
    "        edited_once = False\n",
    "        for i in range(len(s1)):\n",
    "            if s1[i] == s2[i]:\n",
    "                continue\n",
    "            if edited_once:  # 2nd time diff. characters appear. Done.\n",
    "                return False\n",
    "            edited_once = True  # 1st time diff. characters appear\n",
    "        return True\n",
    "    \n",
    "    # One is a character shorter than the other\n",
    "    if len(s1) < len(s2):\n",
    "        shorter = s1\n",
    "        longer = s2\n",
    "    else:\n",
    "        shorter = s2\n",
    "        longer = s1\n",
    "\n",
    "    edited_once = False\n",
    "    for i in range(len(longer)):\n",
    "        if (not edited_once):\n",
    "            if i == len(longer) - 1:  # No edit till the last letter of longer. Only adding the last character.\n",
    "                return True\n",
    "            if shorter[i] == longer[i]:\n",
    "                continue\n",
    "            edited_once = True\n",
    "        else:\n",
    "            if shorter[i - 1] == longer[i]:\n",
    "                continue\n",
    "            return False\n",
    "    return True\n",
    "            \n",
    "assert(is_an_edit_away('pale', 'ple') == True)\n",
    "assert(is_an_edit_away('pales', 'pale') == True)\n",
    "assert(is_an_edit_away('pale', 'bale') == True)\n",
    "assert(is_an_edit_away('pale', 'bake') == False)\n",
    "assert(is_an_edit_away('yay', 'hay!') == False)"
   ]
  },
  {
   "cell_type": "code",
   "execution_count": null,
   "metadata": {},
   "outputs": [],
   "source": []
  }
 ],
 "metadata": {
  "kernelspec": {
   "display_name": "Python 3",
   "language": "python",
   "name": "python3"
  },
  "language_info": {
   "codemirror_mode": {
    "name": "ipython",
    "version": 3
   },
   "file_extension": ".py",
   "mimetype": "text/x-python",
   "name": "python",
   "nbconvert_exporter": "python",
   "pygments_lexer": "ipython3",
   "version": "3.5.4"
  }
 },
 "nbformat": 4,
 "nbformat_minor": 2
}
