{
 "cells": [
  {
   "cell_type": "code",
   "execution_count": 1,
   "metadata": {},
   "outputs": [],
   "source": [
    "class Node:\n",
    "    def __init__(self, data):\n",
    "        self.data = data\n",
    "        self.next = None\n",
    "        \n",
    "    def __str__(self):\n",
    "        return str(self.data)\n",
    "\n",
    "class Stack:\n",
    "    def __init__(self):\n",
    "        self.top = None\n",
    "        \n",
    "    def push(self, data):\n",
    "        new_top = Node(data)\n",
    "        new_top.next = self.top\n",
    "        self.top = new_top\n",
    "        \n",
    "    def pop(self):\n",
    "        if self.top is None:\n",
    "            return None\n",
    "        removed = self.top\n",
    "        self.top = self.top.next\n",
    "        return removed.data\n",
    "    \n",
    "    def peek(self):\n",
    "        if self.top is None:\n",
    "            return None\n",
    "        return self.top.data\n",
    "    \n",
    "    def is_empty(self):\n",
    "        return self.top is None\n",
    "    "
   ]
  },
  {
   "cell_type": "markdown",
   "metadata": {},
   "source": [
    "## Describe how you could use a single array to implement three stacks"
   ]
  },
  {
   "cell_type": "markdown",
   "metadata": {},
   "source": [
    "What if we specify which stack (0, 1, or 2) the data is for, when adding the data to the array. Adding is just apending. Removing requires copying of the rest of the array."
   ]
  },
  {
   "cell_type": "markdown",
   "metadata": {},
   "source": [
    "## Design a stack with a function, min, which returns the minimum element of the stack with O(1)"
   ]
  },
  {
   "cell_type": "code",
   "execution_count": 2,
   "metadata": {},
   "outputs": [],
   "source": [
    "class StackWithMin:\n",
    "    def __init__(self):\n",
    "        self.top = None\n",
    "        self.min_stack = Stack()\n",
    "        \n",
    "    def push(self, data):\n",
    "        new_top = Node(data)\n",
    "        new_top.next = self.top\n",
    "        self.top = new_top\n",
    "        \n",
    "        # For min_stack\n",
    "        if self.min_() is None:\n",
    "            self.min_stack.push(data)\n",
    "            return\n",
    "        if data < self.min_():\n",
    "            self.min_stack.push(data)\n",
    "        \n",
    "    def pop(self):\n",
    "        if self.top is None:\n",
    "            return None\n",
    "        removed = self.top\n",
    "        self.top = self.top.next\n",
    "        \n",
    "        # For min_stack\n",
    "        if removed.data == self.min_stack.peek():\n",
    "            self.min_stack.pop()\n",
    "        \n",
    "        return removed.data\n",
    "\n",
    "    def peek(self):\n",
    "        if self.top is None:\n",
    "            return None\n",
    "        return self.top.data\n",
    "    \n",
    "    def min_(self):\n",
    "        return self.min_stack.peek()"
   ]
  },
  {
   "cell_type": "code",
   "execution_count": 3,
   "metadata": {},
   "outputs": [],
   "source": [
    "s = StackWithMin()\n",
    "s.push(3)\n",
    "s.push(5)\n",
    "s.push(0)\n",
    "assert(s.min_() == 0)\n",
    "s.pop()\n",
    "assert(s.min_() == 3)"
   ]
  },
  {
   "cell_type": "markdown",
   "metadata": {},
   "source": [
    "## Implement a data structure SetOfStacks, composed of several stacks and create a new stack once the previous one exceeds capacity"
   ]
  },
  {
   "cell_type": "code",
   "execution_count": 4,
   "metadata": {},
   "outputs": [],
   "source": [
    "class SetOfStacks:\n",
    "    def __init__(self):\n",
    "        self.stacks_list = []\n",
    "        self.len_list = []\n",
    "        self.add_new_stack()\n",
    "        self.capacity = 3  # Changeable\n",
    "        \n",
    "    def add_new_stack(self):\n",
    "        self.stacks_list.append(Stack())\n",
    "        self.len_list.append(0)\n",
    "        \n",
    "    def remove_top_stack(self):\n",
    "        self.stacks_list = self.stacks_list[: -1]\n",
    "        self.len_list = self.len_list[: -1]\n",
    "    \n",
    "    def push(self, data):\n",
    "        self.stacks_list[-1].push(data)\n",
    "        self.len_list[-1] += 1\n",
    "        \n",
    "        if self.len_list[-1] == self.capacity:\n",
    "            self.add_new_stack()\n",
    "    \n",
    "    def pop(self):\n",
    "        if self.len_list[-1] > 0:\n",
    "            self.len_list[-1] -= 1\n",
    "            return self.stacks_list[-1].pop()\n",
    "        \n",
    "        if len(self.stacks_list) == 1:  # One stack left, no node left\n",
    "            return None\n",
    "        \n",
    "        self.remove_top_stack()\n",
    "        return self.pop()\n",
    "    \n",
    "    def peek(self):\n",
    "        i = len(self.stacks_list) - 1\n",
    "        while i > -1:\n",
    "            if self.len_list[i] > 0:\n",
    "                return self.stacks_list[i].peek()\n",
    "            i -= 1\n",
    "        return None\n",
    "    \n",
    "    def pop_at(self, i):\n",
    "        return self.stacks_list[i].pop()"
   ]
  },
  {
   "cell_type": "code",
   "execution_count": 5,
   "metadata": {},
   "outputs": [],
   "source": [
    "s = SetOfStacks()\n",
    "s.push(1)\n",
    "s.push(2)\n",
    "s.push(3)\n",
    "s.push(4)\n",
    "assert(s.peek() == 4)\n",
    "assert(s.pop_at(0) == 3)"
   ]
  },
  {
   "cell_type": "markdown",
   "metadata": {},
   "source": [
    "## Implement a MyQueue class which implements a queue using two stacks"
   ]
  },
  {
   "cell_type": "code",
   "execution_count": 6,
   "metadata": {},
   "outputs": [],
   "source": [
    "class MyQueue_1:\n",
    "    def __init__(self):\n",
    "        self.s = Stack()\n",
    "        self.reverse_s = Stack()\n",
    "        \n",
    "    def add(self, data):\n",
    "        self.s.push(data)\n",
    "        \n",
    "    def transfer_from_s_to_reverse_s(self):\n",
    "        while not self.s.is_empty():\n",
    "            self.reverse_s.push(self.s.pop())\n",
    "        return\n",
    "    \n",
    "    def transfer_from_reverse_s_to_s(self):\n",
    "        while not self.reverse_s.is_empty():\n",
    "            self.s.push(self.reverse_s.pop())\n",
    "        return\n",
    "    \n",
    "    def remove(self):\n",
    "        self.transfer_from_s_to_reverse_s()\n",
    "        removed = self.reverse_s.pop()\n",
    "        self.transfer_from_reverse_s_to_s()\n",
    "        return removed\n",
    "    \n",
    "    def peek(self):\n",
    "        self.transfer_from_s_to_reverse_s()\n",
    "        top = self.reverse_s.peek()\n",
    "        self.transfer_from_reverse_s_to_s()\n",
    "        return top\n",
    "    \n",
    "    def is_empty(self):\n",
    "        return self.s.is_empty()"
   ]
  },
  {
   "cell_type": "code",
   "execution_count": 7,
   "metadata": {},
   "outputs": [],
   "source": [
    "q = MyQueue_1()\n",
    "q.add(9)\n",
    "q.add(3)\n",
    "q.add(5)\n",
    "assert(q.peek() == 9)\n",
    "assert(q.remove() == 9)\n",
    "assert(q.peek() == 3)"
   ]
  },
  {
   "cell_type": "code",
   "execution_count": 8,
   "metadata": {},
   "outputs": [],
   "source": [
    "class MyQueue_2:  # Taking a lazy approach, not putting everything back into the original queue every time\n",
    "    def __init__(self):\n",
    "        self.newest_ontop = Stack()\n",
    "        self.oldest_ontop = Stack()\n",
    "        \n",
    "    def add(self, data):\n",
    "        self.newest_ontop.push(data)\n",
    "        \n",
    "    def transfer_from_newest_to_oldest(self):\n",
    "        if not self.oldest_ontop.is_empty():\n",
    "            return\n",
    "        \n",
    "        while not self.newest_ontop.is_empty():\n",
    "            self.oldest_ontop.push(self.newest_ontop.pop())\n",
    "        return\n",
    "    \n",
    "    def remove(self):\n",
    "        self.transfer_from_newest_to_oldest()\n",
    "        return self.oldest_ontop.pop()\n",
    "    \n",
    "    def peek(self):\n",
    "        self.transfer_from_newest_to_oldest()\n",
    "        return self.oldest_ontop.peek()\n",
    "    \n",
    "    def is_empty(self):\n",
    "        return self.newest_ontop.is_empty() and self.oldest_ontop.is_empty()"
   ]
  },
  {
   "cell_type": "code",
   "execution_count": 9,
   "metadata": {},
   "outputs": [],
   "source": [
    "q = MyQueue_2()\n",
    "q.add(9)\n",
    "q.add(3)\n",
    "q.add(5)\n",
    "assert(q.peek() == 9)\n",
    "assert(q.remove() == 9)\n",
    "assert(q.peek() == 3)\n",
    "assert(q.is_empty() == False)\n",
    "assert(q.remove())\n",
    "assert(q.remove())\n",
    "assert(q.is_empty() == True)"
   ]
  },
  {
   "cell_type": "markdown",
   "metadata": {},
   "source": [
    "## Create a sorted stack so that the smallest items are on the top. Okay to use a temporary stack, but not any other data structure. Methods are: push, pop, peek, is_empty"
   ]
  },
  {
   "cell_type": "code",
   "execution_count": 10,
   "metadata": {},
   "outputs": [],
   "source": [
    "class SortedStack(Stack):\n",
    "    def __init__(self):\n",
    "        super().__init__()\n",
    "        \n",
    "    def push(self, data):\n",
    "        temp = Stack()\n",
    "        while (not self.is_empty()) and (self.peek() < data):\n",
    "            temp.push(self.pop())\n",
    "        super().push(data)\n",
    "        while not temp.is_empty():\n",
    "            super().push(temp.pop())"
   ]
  },
  {
   "cell_type": "code",
   "execution_count": 11,
   "metadata": {},
   "outputs": [],
   "source": [
    "ss = SortedStack()\n",
    "ss.push(4)\n",
    "ss.push(6)\n",
    "ss.push(4)\n",
    "ss.push(9)\n",
    "assert(ss.peek() == 4)\n",
    "assert(ss.pop() == 4)\n",
    "assert(ss.pop() == 4)\n",
    "assert(ss.pop() == 6)\n",
    "assert(ss.pop() == 9)\n",
    "assert(ss.is_empty() == True)"
   ]
  },
  {
   "cell_type": "markdown",
   "metadata": {},
   "source": [
    "## An animal shelter holds dogs and cats, and operates on a \"first in, first out\" basis. People can adopt either 1) the oldest, or 2) the oldest dog or cat. Create a data structure to maintain this system with: enqueue, dequeue_any, dequeue_dog, dequeue_cat."
   ]
  },
  {
   "cell_type": "code",
   "execution_count": 12,
   "metadata": {},
   "outputs": [],
   "source": [
    "from datetime import datetime\n",
    "\n",
    "class Animal:\n",
    "    def __init__(self, timestamp, kind, animal_id):\n",
    "        self.timestamp = timestamp\n",
    "        self.kind = kind  # 'dog' or 'cat'\n",
    "        self.animal_id = animal_id\n",
    "        self.next = None\n",
    "        \n",
    "    def __str__(self):\n",
    "        return('id: {}, kind: {}, timestamp: {}'.format(self.animal_id, self.kind, self.timestamp))\n",
    "\n",
    "class AnimalShelter:\n",
    "    def __init__(self):\n",
    "        self.current_animal_id = 0\n",
    "        self.dog_top = None\n",
    "        self.cat_top = None\n",
    "    \n",
    "    def enqueue(self, kind):\n",
    "        animal = Animal(datetime.now(), kind, self.current_animal_id)\n",
    "        if kind == 'dog':\n",
    "            animal.next = self.dog_top\n",
    "            self.dog_top = animal\n",
    "        elif kind == 'cat':\n",
    "            animal.next = self.cat_top\n",
    "            self.cat_top = animal\n",
    "        self.current_animal_id += 1\n",
    "            \n",
    "    def dequeue_any(self):\n",
    "        if self.dog_top is None:\n",
    "            return self.dequeue_cat()\n",
    "        if self.cat_top is None:\n",
    "            return self.dequeue_dog()\n",
    "        \n",
    "        dog_top_timestamp = self.dog_top.timestamp\n",
    "        cat_top_timestamp = self.cat_top.timestamp\n",
    "        if dog_top_timestamp > cat_top_timestamp:\n",
    "            self.dequeue_dog()\n",
    "        else:\n",
    "            self.dequeue_cat()\n",
    "    \n",
    "    def dequeue_dog(self):\n",
    "        to_be_adopted = self.dog_top\n",
    "        if to_be_adopted is None:\n",
    "            return\n",
    "        self.dog_top = self.dog_top.next\n",
    "        return to_be_adopted\n",
    "    \n",
    "    def dequeue_cat(self):\n",
    "        to_be_adopted = self.cat_top\n",
    "        if to_be_adopted is None:\n",
    "            return\n",
    "        self.cat_top = self.cat_top.next\n",
    "        return to_be_adopted"
   ]
  },
  {
   "cell_type": "code",
   "execution_count": 13,
   "metadata": {},
   "outputs": [
    {
     "name": "stdout",
     "output_type": "stream",
     "text": [
      "[Expected 3] id: 3, kind: dog, timestamp: 2018-10-13 19:37:03.637322\n",
      "[Expected 2] id: 2, kind: cat, timestamp: 2018-10-13 19:37:03.637270\n",
      "Dequeue top, 3\n",
      "[Expected 1] id: 1, kind: dog, timestamp: 2018-10-13 19:37:03.637195\n",
      "[Expected 2] id: 2, kind: cat, timestamp: 2018-10-13 19:37:03.637270\n",
      "Dequeue top dog, 1\n",
      "[Expected 0] id: 0, kind: dog, timestamp: 2018-10-13 19:37:03.637120\n",
      "[Expected None] None\n"
     ]
    }
   ],
   "source": [
    "animal_shelter = AnimalShelter()\n",
    "animal_shelter.enqueue('dog')  # 0\n",
    "animal_shelter.enqueue('dog')  # 1\n",
    "animal_shelter.enqueue('cat')  # 2\n",
    "animal_shelter.enqueue('dog')  # 3\n",
    "print('[Expected 3]', animal_shelter.dog_top)\n",
    "print('[Expected 2]', animal_shelter.cat_top)\n",
    "print('Dequeue top, 3')\n",
    "animal_shelter.dequeue_any()\n",
    "print('[Expected 1]', animal_shelter.dog_top)\n",
    "print('[Expected 2]', animal_shelter.cat_top)\n",
    "print('Dequeue top dog, 1')\n",
    "animal_shelter.dequeue_dog()\n",
    "print('[Expected 0]', animal_shelter.dog_top)\n",
    "animal_shelter.dequeue_cat()\n",
    "print('[Expected None]', animal_shelter.cat_top)"
   ]
  },
  {
   "cell_type": "code",
   "execution_count": null,
   "metadata": {},
   "outputs": [],
   "source": []
  }
 ],
 "metadata": {
  "kernelspec": {
   "display_name": "Python 3",
   "language": "python",
   "name": "python3"
  },
  "language_info": {
   "codemirror_mode": {
    "name": "ipython",
    "version": 3
   },
   "file_extension": ".py",
   "mimetype": "text/x-python",
   "name": "python",
   "nbconvert_exporter": "python",
   "pygments_lexer": "ipython3",
   "version": "3.5.4"
  }
 },
 "nbformat": 4,
 "nbformat_minor": 2
}
