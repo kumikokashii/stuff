{
 "cells": [
  {
   "cell_type": "code",
   "execution_count": 1,
   "metadata": {},
   "outputs": [],
   "source": [
    "class Node:\n",
    "    def __init__(self, data):\n",
    "        self.data = data\n",
    "        self.next = None\n",
    "        \n",
    "    def __str__(self):\n",
    "        return str(self.data)\n",
    "\n",
    "class Stack:\n",
    "    def __init__(self):\n",
    "        self.top = None\n",
    "        \n",
    "    def push(self, data):\n",
    "        new_top = Node(data)\n",
    "        new_top.next = self.top\n",
    "        self.top = new_top\n",
    "        \n",
    "    def pop(self):\n",
    "        if self.top is None:\n",
    "            return None\n",
    "        removed = self.top\n",
    "        self.top = self.top.next\n",
    "        return removed.data\n",
    "    \n",
    "    def peek(self):\n",
    "        if self.top is None:\n",
    "            return None\n",
    "        return self.top.data\n",
    "    \n",
    "    def is_empty(self):\n",
    "        return self.top is None\n",
    "    "
   ]
  },
  {
   "cell_type": "markdown",
   "metadata": {},
   "source": [
    "## Describe how you could use a single array to implement three stacks"
   ]
  },
  {
   "cell_type": "markdown",
   "metadata": {},
   "source": [
    "What if we specify which stack (0, 1, or 2) the data is for, when adding the data to the array. Adding is just apending. Removing requires copying of the rest of the array."
   ]
  },
  {
   "cell_type": "markdown",
   "metadata": {},
   "source": [
    "## Design a stack with a function, min, which returns the minimum element of the stack with O(1)."
   ]
  },
  {
   "cell_type": "code",
   "execution_count": 2,
   "metadata": {},
   "outputs": [],
   "source": [
    "class StackWithMin:\n",
    "    def __init__(self):\n",
    "        self.top = None\n",
    "        self.min_stack = Stack()\n",
    "        \n",
    "    def push(self, data):\n",
    "        new_top = Node(data)\n",
    "        new_top.next = self.top\n",
    "        self.top = new_top\n",
    "        \n",
    "        # For min_stack\n",
    "        if self.min_() is None:\n",
    "            self.min_stack.push(data)\n",
    "            return\n",
    "        if data < self.min_():\n",
    "            self.min_stack.push(data)\n",
    "        \n",
    "    def pop(self):\n",
    "        if self.top is None:\n",
    "            return None\n",
    "        removed = self.top\n",
    "        self.top = self.top.next\n",
    "        \n",
    "        # For min_stack\n",
    "        if removed.data == self.min_stack.peek():\n",
    "            self.min_stack.pop()\n",
    "        \n",
    "        return removed.data\n",
    "\n",
    "    def peek(self):\n",
    "        if self.top is None:\n",
    "            return None\n",
    "        return self.top.data\n",
    "    \n",
    "    def min_(self):\n",
    "        return self.min_stack.peek()"
   ]
  },
  {
   "cell_type": "code",
   "execution_count": 3,
   "metadata": {},
   "outputs": [],
   "source": [
    "s = StackWithMin()\n",
    "s.push(3)\n",
    "s.push(5)\n",
    "s.push(0)\n",
    "assert(s.min_() == 0)\n",
    "s.pop()\n",
    "assert(s.min_() == 3)"
   ]
  },
  {
   "cell_type": "code",
   "execution_count": null,
   "metadata": {},
   "outputs": [],
   "source": []
  }
 ],
 "metadata": {
  "kernelspec": {
   "display_name": "Python 3",
   "language": "python",
   "name": "python3"
  },
  "language_info": {
   "codemirror_mode": {
    "name": "ipython",
    "version": 3
   },
   "file_extension": ".py",
   "mimetype": "text/x-python",
   "name": "python",
   "nbconvert_exporter": "python",
   "pygments_lexer": "ipython3",
   "version": "3.5.4"
  }
 },
 "nbformat": 4,
 "nbformat_minor": 2
}
