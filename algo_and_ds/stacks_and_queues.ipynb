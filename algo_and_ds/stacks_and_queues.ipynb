{
 "cells": [
  {
   "cell_type": "code",
   "execution_count": 1,
   "metadata": {},
   "outputs": [],
   "source": [
    "class Node:\n",
    "    def __init__(self, data):\n",
    "        self.data = data\n",
    "        self.next = None\n",
    "        \n",
    "    def __str__(self):\n",
    "        return str(self.data)\n",
    "\n",
    "class Stack:\n",
    "    def __init__(self):\n",
    "        self.top = None\n",
    "        \n",
    "    def push(self, data):\n",
    "        new_top = Node(data)\n",
    "        new_top.next = self.top\n",
    "        self.top = new_top\n",
    "        \n",
    "    def pop(self):\n",
    "        if self.top is None:\n",
    "            return None\n",
    "        removed = self.top\n",
    "        self.top = self.top.next\n",
    "        return removed.data\n",
    "    \n",
    "    def peek(self):\n",
    "        if self.top is None:\n",
    "            return None\n",
    "        return self.top.data\n",
    "    \n",
    "    def is_empty(self):\n",
    "        return self.top is None\n",
    "    "
   ]
  },
  {
   "cell_type": "markdown",
   "metadata": {},
   "source": [
    "## Describe how you could use a single array to implement three stacks"
   ]
  },
  {
   "cell_type": "markdown",
   "metadata": {},
   "source": [
    "What if we specify which stack (0, 1, or 2) the data is for, when adding the data to the array. Adding is just apending. Removing requires copying of the rest of the array."
   ]
  },
  {
   "cell_type": "markdown",
   "metadata": {},
   "source": [
    "## Design a stack with a function, min, which returns the minimum element of the stack with O(1)"
   ]
  },
  {
   "cell_type": "code",
   "execution_count": 2,
   "metadata": {},
   "outputs": [],
   "source": [
    "class StackWithMin:\n",
    "    def __init__(self):\n",
    "        self.top = None\n",
    "        self.min_stack = Stack()\n",
    "        \n",
    "    def push(self, data):\n",
    "        new_top = Node(data)\n",
    "        new_top.next = self.top\n",
    "        self.top = new_top\n",
    "        \n",
    "        # For min_stack\n",
    "        if self.min_() is None:\n",
    "            self.min_stack.push(data)\n",
    "            return\n",
    "        if data < self.min_():\n",
    "            self.min_stack.push(data)\n",
    "        \n",
    "    def pop(self):\n",
    "        if self.top is None:\n",
    "            return None\n",
    "        removed = self.top\n",
    "        self.top = self.top.next\n",
    "        \n",
    "        # For min_stack\n",
    "        if removed.data == self.min_stack.peek():\n",
    "            self.min_stack.pop()\n",
    "        \n",
    "        return removed.data\n",
    "\n",
    "    def peek(self):\n",
    "        if self.top is None:\n",
    "            return None\n",
    "        return self.top.data\n",
    "    \n",
    "    def min_(self):\n",
    "        return self.min_stack.peek()"
   ]
  },
  {
   "cell_type": "code",
   "execution_count": 3,
   "metadata": {},
   "outputs": [],
   "source": [
    "s = StackWithMin()\n",
    "s.push(3)\n",
    "s.push(5)\n",
    "s.push(0)\n",
    "assert(s.min_() == 0)\n",
    "s.pop()\n",
    "assert(s.min_() == 3)"
   ]
  },
  {
   "cell_type": "markdown",
   "metadata": {},
   "source": [
    "## Implement a data structure SetOfStacks, composed of several stacks and create a new stack once the previous one exceeds capacity"
   ]
  },
  {
   "cell_type": "code",
   "execution_count": 4,
   "metadata": {},
   "outputs": [],
   "source": [
    "class SetOfStacks:\n",
    "    def __init__(self):\n",
    "        self.stacks_list = []\n",
    "        self.len_list = []\n",
    "        self.add_new_stack()\n",
    "        self.capacity = 3  # Changeable\n",
    "        \n",
    "    def add_new_stack(self):\n",
    "        self.stacks_list.append(Stack())\n",
    "        self.len_list.append(0)\n",
    "        \n",
    "    def remove_top_stack(self):\n",
    "        self.stacks_list = self.stacks_list[: -1]\n",
    "        self.len_list = self.len_list[: -1]\n",
    "    \n",
    "    def push(self, data):\n",
    "        self.stacks_list[-1].push(data)\n",
    "        self.len_list[-1] += 1\n",
    "        \n",
    "        if self.len_list[-1] == self.capacity:\n",
    "            self.add_new_stack()\n",
    "    \n",
    "    def pop(self):\n",
    "        if self.len_list[-1] > 0:\n",
    "            self.len_list[-1] -= 1\n",
    "            return self.stacks_list[-1].pop()\n",
    "        \n",
    "        if len(self.stacks_list) == 1:  # One stack left, no node left\n",
    "            return None\n",
    "        \n",
    "        self.remove_top_stack()\n",
    "        return self.pop()\n",
    "    \n",
    "    def peek(self):\n",
    "        i = len(self.stacks_list) - 1\n",
    "        while i > -1:\n",
    "            if self.len_list[i] > 0:\n",
    "                return self.stacks_list[i].peek()\n",
    "            i -= 1\n",
    "        return None\n",
    "    \n",
    "    def pop_at(self, i):\n",
    "        return self.stacks_list[i].pop()"
   ]
  },
  {
   "cell_type": "code",
   "execution_count": 5,
   "metadata": {},
   "outputs": [],
   "source": [
    "s = SetOfStacks()\n",
    "s.push(1)\n",
    "s.push(2)\n",
    "s.push(3)\n",
    "s.push(4)\n",
    "assert(s.peek() == 4)\n",
    "assert(s.pop_at(0) == 3)"
   ]
  },
  {
   "cell_type": "markdown",
   "metadata": {},
   "source": [
    "## Implement a MyQueue class which implements a queue using two stacks"
   ]
  },
  {
   "cell_type": "code",
   "execution_count": 6,
   "metadata": {},
   "outputs": [],
   "source": [
    "class MyQueue_1:\n",
    "    def __init__(self):\n",
    "        self.s = Stack()\n",
    "        self.reverse_s = Stack()\n",
    "        \n",
    "    def add(self, data):\n",
    "        self.s.push(data)\n",
    "        \n",
    "    def transfer_from_s_to_reverse_s(self):\n",
    "        while not self.s.is_empty():\n",
    "            self.reverse_s.push(self.s.pop())\n",
    "        return\n",
    "    \n",
    "    def transfer_from_reverse_s_to_s(self):\n",
    "        while not self.reverse_s.is_empty():\n",
    "            self.s.push(self.reverse_s.pop())\n",
    "        return\n",
    "    \n",
    "    def remove(self):\n",
    "        self.transfer_from_s_to_reverse_s()\n",
    "        removed = self.reverse_s.pop()\n",
    "        self.transfer_from_reverse_s_to_s()\n",
    "        return removed\n",
    "    \n",
    "    def peek(self):\n",
    "        self.transfer_from_s_to_reverse_s()\n",
    "        top = self.reverse_s.peek()\n",
    "        self.transfer_from_reverse_s_to_s()\n",
    "        return top\n",
    "    \n",
    "    def is_empty(self):\n",
    "        return self.s.is_empty()"
   ]
  },
  {
   "cell_type": "code",
   "execution_count": 7,
   "metadata": {},
   "outputs": [],
   "source": [
    "q = MyQueue_1()\n",
    "q.add(9)\n",
    "q.add(3)\n",
    "q.add(5)\n",
    "assert(q.peek() == 9)\n",
    "assert(q.remove() == 9)\n",
    "assert(q.peek() == 3)"
   ]
  },
  {
   "cell_type": "code",
   "execution_count": 8,
   "metadata": {},
   "outputs": [],
   "source": [
    "class MyQueue_2:  # Taking a lazy approach, not putting everything back into the original queue every time\n",
    "    def __init__(self):\n",
    "        self.newest_ontop = Stack()\n",
    "        self.oldest_ontop = Stack()\n",
    "        \n",
    "    def add(self, data):\n",
    "        self.newest_ontop.push(data)\n",
    "        \n",
    "    def transfer_from_newest_to_oldest(self):\n",
    "        if not self.oldest_ontop.is_empty():\n",
    "            return\n",
    "        \n",
    "        while not self.newest_ontop.is_empty():\n",
    "            self.oldest_ontop.push(self.newest_ontop.pop())\n",
    "        return\n",
    "    \n",
    "    def remove(self):\n",
    "        self.transfer_from_newest_to_oldest()\n",
    "        return self.oldest_ontop.pop()\n",
    "    \n",
    "    def peek(self):\n",
    "        self.transfer_from_newest_to_oldest()\n",
    "        return self.oldest_ontop.peek()\n",
    "    \n",
    "    def is_empty(self):\n",
    "        return self.newest_ontop.is_empty() and self.oldest_ontop.is_empty()"
   ]
  },
  {
   "cell_type": "code",
   "execution_count": 9,
   "metadata": {},
   "outputs": [],
   "source": [
    "q = MyQueue_2()\n",
    "q.add(9)\n",
    "q.add(3)\n",
    "q.add(5)\n",
    "assert(q.peek() == 9)\n",
    "assert(q.remove() == 9)\n",
    "assert(q.peek() == 3)\n",
    "assert(q.is_empty() == False)\n",
    "assert(q.remove())\n",
    "assert(q.remove())\n",
    "assert(q.is_empty() == True)"
   ]
  },
  {
   "cell_type": "code",
   "execution_count": null,
   "metadata": {},
   "outputs": [],
   "source": []
  }
 ],
 "metadata": {
  "kernelspec": {
   "display_name": "Python 3",
   "language": "python",
   "name": "python3"
  },
  "language_info": {
   "codemirror_mode": {
    "name": "ipython",
    "version": 3
   },
   "file_extension": ".py",
   "mimetype": "text/x-python",
   "name": "python",
   "nbconvert_exporter": "python",
   "pygments_lexer": "ipython3",
   "version": "3.5.4"
  }
 },
 "nbformat": 4,
 "nbformat_minor": 2
}
