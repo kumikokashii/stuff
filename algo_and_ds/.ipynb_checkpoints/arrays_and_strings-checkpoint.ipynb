{
 "cells": [
  {
   "cell_type": "markdown",
   "metadata": {},
   "source": [
    "Write a function to check if all characters in a string are unique."
   ]
  },
  {
   "cell_type": "code",
   "execution_count": 56,
   "metadata": {},
   "outputs": [],
   "source": [
    "def all_chars_are_unique_1(s):  # Using a hash set\n",
    "    in_s = set()\n",
    "    for c in s:\n",
    "        if c in in_s:\n",
    "            return False\n",
    "        in_s.add(c)\n",
    "    return True\n",
    "\n",
    "assert(all_chars_are_unique_1('abc') == True)\n",
    "assert(all_chars_are_unique_1('abc^_^') == False)\n",
    "assert(all_chars_are_unique_1('blueberry') == False)\n",
    "assert(all_chars_are_unique_1('oyster') == True)"
   ]
  },
  {
   "cell_type": "code",
   "execution_count": 57,
   "metadata": {},
   "outputs": [],
   "source": [
    "def all_chars_are_unique_2(s):  # Without using another data structure\n",
    "    sorted_s = ''.join(sorted(s))  # O(nlogn)\n",
    "    for i in range(len(sorted_s) - 1):  # O(n)\n",
    "        if sorted_s[i] == sorted_s[i + 1]:\n",
    "            return False\n",
    "    return True\n",
    "\n",
    "assert(all_chars_are_unique_2('abc') == True)\n",
    "assert(all_chars_are_unique_2('abc^_^') == False)\n",
    "assert(all_chars_are_unique_2('blueberry') == False)\n",
    "assert(all_chars_are_unique_2('oyster') == True)"
   ]
  },
  {
   "cell_type": "code",
   "execution_count": null,
   "metadata": {},
   "outputs": [],
   "source": []
  }
 ],
 "metadata": {
  "kernelspec": {
   "display_name": "Python 3",
   "language": "python",
   "name": "python3"
  },
  "language_info": {
   "codemirror_mode": {
    "name": "ipython",
    "version": 3
   },
   "file_extension": ".py",
   "mimetype": "text/x-python",
   "name": "python",
   "nbconvert_exporter": "python",
   "pygments_lexer": "ipython3",
   "version": "3.5.4"
  }
 },
 "nbformat": 4,
 "nbformat_minor": 2
}
