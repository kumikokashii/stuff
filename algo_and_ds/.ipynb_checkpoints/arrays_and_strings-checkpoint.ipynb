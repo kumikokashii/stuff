{
 "cells": [
  {
   "cell_type": "markdown",
   "metadata": {},
   "source": [
    "## Write a function to check if all characters in a string are unique."
   ]
  },
  {
   "cell_type": "code",
   "execution_count": 1,
   "metadata": {},
   "outputs": [],
   "source": [
    "def all_chars_are_unique_1(s):  # Using a hash set\n",
    "    in_s = set()\n",
    "    for c in s:\n",
    "        if c in in_s:\n",
    "            return False\n",
    "        in_s.add(c)\n",
    "    return True\n",
    "\n",
    "assert(all_chars_are_unique_1('abc') == True)\n",
    "assert(all_chars_are_unique_1('abc^_^') == False)\n",
    "assert(all_chars_are_unique_1('blueberry') == False)\n",
    "assert(all_chars_are_unique_1('oyster') == True)"
   ]
  },
  {
   "cell_type": "code",
   "execution_count": 2,
   "metadata": {},
   "outputs": [],
   "source": [
    "def all_chars_are_unique_2(s):  # Without using another data structure\n",
    "    sorted_s = ''.join(sorted(s))  # O(nlogn)\n",
    "    for i in range(len(sorted_s) - 1):  # O(n)\n",
    "        if sorted_s[i] == sorted_s[i + 1]:\n",
    "            return False\n",
    "    return True\n",
    "\n",
    "assert(all_chars_are_unique_2('abc') == True)\n",
    "assert(all_chars_are_unique_2('abc^_^') == False)\n",
    "assert(all_chars_are_unique_2('blueberry') == False)\n",
    "assert(all_chars_are_unique_2('oyster') == True)"
   ]
  },
  {
   "cell_type": "markdown",
   "metadata": {},
   "source": [
    "## Write a function to check, given two strings, if one is a permutation of the other"
   ]
  },
  {
   "cell_type": "code",
   "execution_count": 3,
   "metadata": {},
   "outputs": [],
   "source": [
    "def are_perm_1(s1, s2):  # O(nlogn)\n",
    "    if len(s1) != len(s2):\n",
    "        return False\n",
    "    \n",
    "    sorted_s1 = ''.join(sorted(s1))\n",
    "    sorted_s2 = ''.join(sorted(s2))\n",
    "    return sorted_s1 == sorted_s2\n",
    "\n",
    "assert(are_perm_1('abc', 'cba') == True)\n",
    "assert(are_perm_1('hohoho', 'hohoh') == False)\n",
    "assert(are_perm_1('hohoho', 'hohoh!') == False)"
   ]
  },
  {
   "cell_type": "code",
   "execution_count": 4,
   "metadata": {},
   "outputs": [],
   "source": [
    "def are_perm_2(s1, s2):  # O(n)\n",
    "    if len(s1) != len(s2):\n",
    "        return False\n",
    "    \n",
    "    # Count characters for the first string\n",
    "    count_s1 = {}\n",
    "    for i in range(len(s1)):\n",
    "        c1 = s1[i]\n",
    "        if c1 in count_s1:\n",
    "            count_s1[c1] += 1\n",
    "        else:\n",
    "            count_s1[c1] = 1\n",
    "            \n",
    "    # NOTE: No need to count s2 characters in a separate dictionary, to later compare count_s1 and count_s2.\n",
    "    # By decreasing the char count per character below, we save space.\n",
    "            \n",
    "    # Decrease what shows up in the second string\n",
    "    for i in range(len(s2)):\n",
    "        c2 = s2[i]\n",
    "        if c2 not in count_s1:\n",
    "            return False\n",
    "        count_s1[c2] -= 1\n",
    "        if count_s1[c2] < 0:\n",
    "            return False\n",
    "    return True\n",
    "\n",
    "assert(are_perm_2('abc', 'cba') == True)\n",
    "assert(are_perm_2('hohoho', 'hohoh') == False)\n",
    "assert(are_perm_2('hohoho', 'hohoh!') == False)"
   ]
  },
  {
   "cell_type": "markdown",
   "metadata": {},
   "source": [
    "## Write a function to replace all spaces in a string with '%20'. True length of the string is given (excluding the spaces at the end)."
   ]
  },
  {
   "cell_type": "code",
   "execution_count": 5,
   "metadata": {},
   "outputs": [],
   "source": [
    "def replace_spaces(s, num_char):\n",
    "    trimmed_s = s[: num_char]\n",
    "    return trimmed_s.replace(' ', '%20')\n",
    "\n",
    "assert(replace_spaces('Mr John Smith    ', 13) == 'Mr%20John%20Smith')"
   ]
  },
  {
   "cell_type": "code",
   "execution_count": null,
   "metadata": {},
   "outputs": [],
   "source": []
  }
 ],
 "metadata": {
  "kernelspec": {
   "display_name": "Python 3",
   "language": "python",
   "name": "python3"
  },
  "language_info": {
   "codemirror_mode": {
    "name": "ipython",
    "version": 3
   },
   "file_extension": ".py",
   "mimetype": "text/x-python",
   "name": "python",
   "nbconvert_exporter": "python",
   "pygments_lexer": "ipython3",
   "version": "3.5.4"
  }
 },
 "nbformat": 4,
 "nbformat_minor": 2
}
