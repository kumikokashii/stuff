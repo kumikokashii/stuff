{
 "cells": [
  {
   "cell_type": "markdown",
   "metadata": {},
   "source": [
    "# Chi-Square Test of Independence (pronounced 'kai')\n",
    "* Check if two categorical variables are independent\n",
    "* https://en.wikipedia.org/wiki/Chi-squared_test\n",
    "* https://en.wikipedia.org/wiki/Chi-squared_distribution\n",
    "* Below example is from: https://onlinecourses.science.psu.edu/stat500/node/56"
   ]
  },
  {
   "cell_type": "code",
   "execution_count": 1,
   "metadata": {},
   "outputs": [],
   "source": [
    "import numpy as np\n",
    "from scipy.stats import chi2_contingency"
   ]
  },
  {
   "cell_type": "code",
   "execution_count": 2,
   "metadata": {},
   "outputs": [
    {
     "name": "stdout",
     "output_type": "stream",
     "text": [
      "test chi-squared value: 22.152469, degrees of freedom: 2\n",
      "probability that two categories are independent is: 0.000015\n",
      "two categories are dependent\n"
     ]
    }
   ],
   "source": [
    "obs = np.array([[138, 64], [83, 67], [64, 84]])\n",
    "chi2, p, dof, ex = chi2_contingency(obs)\n",
    "print('test chi-squared value: %f, degrees of freedom: %d' % (chi2, dof))\n",
    "print('probability that two categories are independent is: %f' % p)\n",
    "print('two categories are dependent')"
   ]
  },
  {
   "cell_type": "code",
   "execution_count": null,
   "metadata": {},
   "outputs": [],
   "source": []
  }
 ],
 "metadata": {
  "kernelspec": {
   "display_name": "Python 3",
   "language": "python",
   "name": "python3"
  },
  "language_info": {
   "codemirror_mode": {
    "name": "ipython",
    "version": 3
   },
   "file_extension": ".py",
   "mimetype": "text/x-python",
   "name": "python",
   "nbconvert_exporter": "python",
   "pygments_lexer": "ipython3",
   "version": "3.5.4"
  }
 },
 "nbformat": 4,
 "nbformat_minor": 2
}
