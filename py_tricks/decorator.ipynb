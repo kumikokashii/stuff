{
 "cells": [
  {
   "cell_type": "markdown",
   "metadata": {},
   "source": [
    "# 1) Decorator\n",
    "Reference: https://www.journaldev.com/14932/python-decorator-example"
   ]
  },
  {
   "cell_type": "code",
   "execution_count": 1,
   "metadata": {},
   "outputs": [],
   "source": [
    "# Function before decorated\n",
    "def any_func(a):\n",
    "    return int((a + 3) / 5) ^ 123 - 77"
   ]
  },
  {
   "cell_type": "code",
   "execution_count": 2,
   "metadata": {},
   "outputs": [
    {
     "data": {
      "text/plain": [
       "44"
      ]
     },
     "execution_count": 2,
     "metadata": {},
     "output_type": "execute_result"
    }
   ],
   "source": [
    "any_func(9)"
   ]
  },
  {
   "cell_type": "markdown",
   "metadata": {},
   "source": [
    "## To decorate:\n",
    "1. Define a decorator above the function you want to decorate\n",
    "2. Above the function you want to decorate, add the @ and the decorator name"
   ]
  },
  {
   "cell_type": "code",
   "execution_count": 3,
   "metadata": {},
   "outputs": [],
   "source": [
    "from datetime import datetime\n",
    "\n",
    "def print_execution_time_decorator(func):\n",
    "    def new_any_func(a):\n",
    "        time_before = datetime.now()\n",
    "        to_return = func(a)  # Calling the original function!\n",
    "        time_after = datetime.now()\n",
    "        print('-'*50)\n",
    "        print('Execution Time: {}'.format(time_after - time_before))\n",
    "        print('-'*50)\n",
    "        return to_return\n",
    "    \n",
    "    return new_any_func\n",
    "\n",
    "@print_execution_time_decorator\n",
    "def any_func(a):\n",
    "    return int((a + 3) / 5) ^ 123 - 77"
   ]
  },
  {
   "cell_type": "code",
   "execution_count": 4,
   "metadata": {},
   "outputs": [
    {
     "name": "stdout",
     "output_type": "stream",
     "text": [
      "--------------------------------------------------\n",
      "Execution Time: 0:00:00.000009\n",
      "--------------------------------------------------\n"
     ]
    },
    {
     "data": {
      "text/plain": [
       "44"
      ]
     },
     "execution_count": 4,
     "metadata": {},
     "output_type": "execute_result"
    }
   ],
   "source": [
    "any_func(9)"
   ]
  },
  {
   "cell_type": "markdown",
   "metadata": {},
   "source": [
    "## You can use the same decorator for any functions ^_^"
   ]
  },
  {
   "cell_type": "code",
   "execution_count": 5,
   "metadata": {},
   "outputs": [],
   "source": [
    "@print_execution_time_decorator\n",
    "def fun_func(text):\n",
    "    total = 0\n",
    "    for char in text:\n",
    "        total += ord(char)\n",
    "    print('String: \"{}\"'.format(text))\n",
    "    print('Number: {:,}'.format(total))\n",
    "    return total"
   ]
  },
  {
   "cell_type": "code",
   "execution_count": 6,
   "metadata": {},
   "outputs": [
    {
     "name": "stdout",
     "output_type": "stream",
     "text": [
      "String: \"Today was a good day. Thanks everyone!\"\n",
      "Number: 3,449\n",
      "--------------------------------------------------\n",
      "Execution Time: 0:00:00.001558\n",
      "--------------------------------------------------\n"
     ]
    },
    {
     "data": {
      "text/plain": [
       "3449"
      ]
     },
     "execution_count": 6,
     "metadata": {},
     "output_type": "execute_result"
    }
   ],
   "source": [
    "fun_func('Today was a good day. Thanks everyone!')"
   ]
  },
  {
   "cell_type": "markdown",
   "metadata": {},
   "source": [
    "# 2) Property Decorator\n",
    "Reference: https://www.journaldev.com/14893/python-property-decorator"
   ]
  },
  {
   "cell_type": "code",
   "execution_count": null,
   "metadata": {},
   "outputs": [],
   "source": []
  }
 ],
 "metadata": {
  "kernelspec": {
   "display_name": "Python 3",
   "language": "python",
   "name": "python3"
  },
  "language_info": {
   "codemirror_mode": {
    "name": "ipython",
    "version": 3
   },
   "file_extension": ".py",
   "mimetype": "text/x-python",
   "name": "python",
   "nbconvert_exporter": "python",
   "pygments_lexer": "ipython3",
   "version": "3.5.4"
  }
 },
 "nbformat": 4,
 "nbformat_minor": 2
}
