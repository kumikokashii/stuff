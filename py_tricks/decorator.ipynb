{
 "cells": [
  {
   "cell_type": "markdown",
   "metadata": {},
   "source": [
    "# 1) Decorator\n",
    "Reference: https://www.journaldev.com/14932/python-decorator-example"
   ]
  },
  {
   "cell_type": "code",
   "execution_count": 1,
   "metadata": {},
   "outputs": [],
   "source": [
    "# Function before decorated\n",
    "def any_func(a):\n",
    "    return int((a + 3) / 5) ^ 123 - 77"
   ]
  },
  {
   "cell_type": "code",
   "execution_count": 2,
   "metadata": {},
   "outputs": [
    {
     "data": {
      "text/plain": [
       "44"
      ]
     },
     "execution_count": 2,
     "metadata": {},
     "output_type": "execute_result"
    }
   ],
   "source": [
    "any_func(9)"
   ]
  },
  {
   "cell_type": "markdown",
   "metadata": {},
   "source": [
    "## To decorate:\n",
    "1. Define a decorator (This is a function that takes another function as an argument) above the function you want to decorate\n",
    "2. Above the function you want to decorate, add the @ and the decorator name"
   ]
  },
  {
   "cell_type": "code",
   "execution_count": 3,
   "metadata": {},
   "outputs": [],
   "source": [
    "from datetime import datetime\n",
    "\n",
    "def print_execution_time_decorator(func):\n",
    "    def new_any_func(a):\n",
    "        time_before = datetime.now()\n",
    "        to_return = func(a)  # Calling the original function!\n",
    "        time_after = datetime.now()\n",
    "        print('-'*50)\n",
    "        print('Execution Time: {}'.format(time_after - time_before))\n",
    "        print('-'*50)\n",
    "        return to_return\n",
    "    \n",
    "    return new_any_func\n",
    "\n",
    "@print_execution_time_decorator\n",
    "def any_func(a):\n",
    "    return int((a + 3) / 5) ^ 123 - 77"
   ]
  },
  {
   "cell_type": "code",
   "execution_count": 4,
   "metadata": {},
   "outputs": [
    {
     "name": "stdout",
     "output_type": "stream",
     "text": [
      "--------------------------------------------------\n",
      "Execution Time: 0:00:00.000011\n",
      "--------------------------------------------------\n"
     ]
    },
    {
     "data": {
      "text/plain": [
       "44"
      ]
     },
     "execution_count": 4,
     "metadata": {},
     "output_type": "execute_result"
    }
   ],
   "source": [
    "any_func(9)"
   ]
  },
  {
   "cell_type": "markdown",
   "metadata": {},
   "source": [
    "## You can use the same decorator for any functions ^_^"
   ]
  },
  {
   "cell_type": "code",
   "execution_count": 5,
   "metadata": {},
   "outputs": [],
   "source": [
    "@print_execution_time_decorator\n",
    "def fun_func(text):\n",
    "    total = 0\n",
    "    for char in text:\n",
    "        total += ord(char)\n",
    "    print('String: \"{}\"'.format(text))\n",
    "    print('Number: {:,}'.format(total))\n",
    "    return total"
   ]
  },
  {
   "cell_type": "code",
   "execution_count": 6,
   "metadata": {},
   "outputs": [
    {
     "name": "stdout",
     "output_type": "stream",
     "text": [
      "String: \"Today was a good day. Thanks everyone!\"\n",
      "Number: 3,449\n",
      "--------------------------------------------------\n",
      "Execution Time: 0:00:00.002607\n",
      "--------------------------------------------------\n"
     ]
    },
    {
     "data": {
      "text/plain": [
       "3449"
      ]
     },
     "execution_count": 6,
     "metadata": {},
     "output_type": "execute_result"
    }
   ],
   "source": [
    "fun_func('Today was a good day. Thanks everyone!')"
   ]
  },
  {
   "cell_type": "markdown",
   "metadata": {},
   "source": [
    "# 2) Property Decorator\n",
    "Reference: https://www.programiz.com/python-programming/property"
   ]
  },
  {
   "cell_type": "markdown",
   "metadata": {},
   "source": [
    "## 1. Name the fields with an underscore at the start\n",
    "## 2. Getter\n",
    "1. Define a method with its name being the field name without an underscore\n",
    "2. Add **@property** above the method definition\n",
    "\n",
    "## 3. Setter\n",
    "1. Define a method with its name being the field name without an underscore. This takes an argment of what the user tries to set the value of the field to.\n",
    "2. Add **@[field name without underscore].setter** above the method definition\n",
    "\n",
    "## 4. With a real instance, when getting or setting, use the field name without an underscore"
   ]
  },
  {
   "cell_type": "code",
   "execution_count": 7,
   "metadata": {},
   "outputs": [],
   "source": [
    "class Fruit:\n",
    "    def __init__(self, name, yum_score):\n",
    "        self._name = name\n",
    "        self._yum_score = yum_score\n",
    "        \n",
    "    @property  # Getter for self._name\n",
    "    def name(self):\n",
    "        return self._name\n",
    "    \n",
    "    @name.setter  # Setter for self._name\n",
    "    def name(self, name):\n",
    "        if not isinstance(name, str):  # Error if not a string\n",
    "            raise ValueError('Not a string')\n",
    "        self._name = name\n",
    "        \n",
    "    @property  # Getter for self._yum_score\n",
    "    def yum_score(self):\n",
    "        return self._yum_score\n",
    "    \n",
    "    @yum_score.setter  # Setter for self._yum_score\n",
    "    def yum_score(self, yum_score):\n",
    "        self._yum_score = int(yum_score)  # Round down to the nearest int"
   ]
  },
  {
   "cell_type": "code",
   "execution_count": 8,
   "metadata": {},
   "outputs": [],
   "source": [
    "kiwi = Fruit('kiwi', 10)"
   ]
  },
  {
   "cell_type": "code",
   "execution_count": 9,
   "metadata": {},
   "outputs": [
    {
     "name": "stdout",
     "output_type": "stream",
     "text": [
      "kiwi 10\n"
     ]
    }
   ],
   "source": [
    "print(kiwi.name, kiwi.yum_score)"
   ]
  },
  {
   "cell_type": "code",
   "execution_count": 10,
   "metadata": {},
   "outputs": [
    {
     "ename": "ValueError",
     "evalue": "Not a string",
     "output_type": "error",
     "traceback": [
      "\u001b[0;31m---------------------------------------------------------------------------\u001b[0m",
      "\u001b[0;31mValueError\u001b[0m                                Traceback (most recent call last)",
      "\u001b[0;32m<ipython-input-10-471cb3b444d6>\u001b[0m in \u001b[0;36m<module>\u001b[0;34m()\u001b[0m\n\u001b[1;32m      1\u001b[0m \u001b[0;31m# Error when trying to set the name with a non-string\u001b[0m\u001b[0;34m\u001b[0m\u001b[0;34m\u001b[0m\u001b[0m\n\u001b[0;32m----> 2\u001b[0;31m \u001b[0mkiwi\u001b[0m\u001b[0;34m.\u001b[0m\u001b[0mname\u001b[0m \u001b[0;34m=\u001b[0m \u001b[0;36m123\u001b[0m\u001b[0;34m\u001b[0m\u001b[0m\n\u001b[0m",
      "\u001b[0;32m<ipython-input-7-bbe9356741b3>\u001b[0m in \u001b[0;36mname\u001b[0;34m(self, name)\u001b[0m\n\u001b[1;32m     11\u001b[0m     \u001b[0;32mdef\u001b[0m \u001b[0mname\u001b[0m\u001b[0;34m(\u001b[0m\u001b[0mself\u001b[0m\u001b[0;34m,\u001b[0m \u001b[0mname\u001b[0m\u001b[0;34m)\u001b[0m\u001b[0;34m:\u001b[0m\u001b[0;34m\u001b[0m\u001b[0m\n\u001b[1;32m     12\u001b[0m         \u001b[0;32mif\u001b[0m \u001b[0;32mnot\u001b[0m \u001b[0misinstance\u001b[0m\u001b[0;34m(\u001b[0m\u001b[0mname\u001b[0m\u001b[0;34m,\u001b[0m \u001b[0mstr\u001b[0m\u001b[0;34m)\u001b[0m\u001b[0;34m:\u001b[0m  \u001b[0;31m# Error if not a string\u001b[0m\u001b[0;34m\u001b[0m\u001b[0m\n\u001b[0;32m---> 13\u001b[0;31m             \u001b[0;32mraise\u001b[0m \u001b[0mValueError\u001b[0m\u001b[0;34m(\u001b[0m\u001b[0;34m'Not a string'\u001b[0m\u001b[0;34m)\u001b[0m\u001b[0;34m\u001b[0m\u001b[0m\n\u001b[0m\u001b[1;32m     14\u001b[0m         \u001b[0mself\u001b[0m\u001b[0;34m.\u001b[0m\u001b[0m_name\u001b[0m \u001b[0;34m=\u001b[0m \u001b[0mname\u001b[0m\u001b[0;34m\u001b[0m\u001b[0m\n\u001b[1;32m     15\u001b[0m \u001b[0;34m\u001b[0m\u001b[0m\n",
      "\u001b[0;31mValueError\u001b[0m: Not a string"
     ]
    }
   ],
   "source": [
    "# Error when trying to set the name with a non-string\n",
    "kiwi.name = 123"
   ]
  },
  {
   "cell_type": "code",
   "execution_count": 11,
   "metadata": {},
   "outputs": [
    {
     "data": {
      "text/plain": [
       "11"
      ]
     },
     "execution_count": 11,
     "metadata": {},
     "output_type": "execute_result"
    }
   ],
   "source": [
    "# Setting the score with a decimal. It rounds down to the neareset integer\n",
    "kiwi.yum_score = 11.2\n",
    "kiwi.yum_score"
   ]
  },
  {
   "cell_type": "code",
   "execution_count": null,
   "metadata": {},
   "outputs": [],
   "source": []
  }
 ],
 "metadata": {
  "kernelspec": {
   "display_name": "Python 3",
   "language": "python",
   "name": "python3"
  },
  "language_info": {
   "codemirror_mode": {
    "name": "ipython",
    "version": 3
   },
   "file_extension": ".py",
   "mimetype": "text/x-python",
   "name": "python",
   "nbconvert_exporter": "python",
   "pygments_lexer": "ipython3",
   "version": "3.5.4"
  }
 },
 "nbformat": 4,
 "nbformat_minor": 2
}
