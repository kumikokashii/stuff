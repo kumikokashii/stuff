{
 "cells": [
  {
   "cell_type": "markdown",
   "metadata": {},
   "source": [
    "# Namedtuple ^_^\n",
    "- Basics: https://pymotw.com/2/collections/namedtuple.html\n",
    "- Documentation: https://docs.python.org/2/library/collections.html#collections.namedtuple"
   ]
  },
  {
   "cell_type": "code",
   "execution_count": 1,
   "metadata": {},
   "outputs": [],
   "source": [
    "from collections import namedtuple"
   ]
  },
  {
   "cell_type": "code",
   "execution_count": 2,
   "metadata": {},
   "outputs": [],
   "source": [
    "# Create a new tuple class\n",
    "fruit_tuple = namedtuple('fruit', ('name', 'yum_score'))"
   ]
  },
  {
   "cell_type": "code",
   "execution_count": 3,
   "metadata": {},
   "outputs": [],
   "source": [
    "# Create a tuple of that class\n",
    "apple = fruit_tuple('apple', 7)"
   ]
  },
  {
   "cell_type": "code",
   "execution_count": 4,
   "metadata": {},
   "outputs": [
    {
     "name": "stdout",
     "output_type": "stream",
     "text": [
      "apple\n",
      "7\n"
     ]
    }
   ],
   "source": [
    "# Use the fields of that tuple class!\n",
    "print(apple.name)\n",
    "print(apple.yum_score)"
   ]
  },
  {
   "cell_type": "code",
   "execution_count": 5,
   "metadata": {},
   "outputs": [],
   "source": [
    "# If data comes as a set, use _make()\n",
    "data = ('peach', 19)\n",
    "peach = fruit_tuple._make(data)"
   ]
  },
  {
   "cell_type": "code",
   "execution_count": 6,
   "metadata": {},
   "outputs": [
    {
     "name": "stdout",
     "output_type": "stream",
     "text": [
      "peach\n",
      "19\n"
     ]
    }
   ],
   "source": [
    "print(peach.name)\n",
    "print(peach.yum_score)"
   ]
  },
  {
   "cell_type": "code",
   "execution_count": 7,
   "metadata": {},
   "outputs": [
    {
     "data": {
      "text/plain": [
       "__main__.fruit"
      ]
     },
     "execution_count": 7,
     "metadata": {},
     "output_type": "execute_result"
    }
   ],
   "source": [
    "# It's not a regular tuple type\n",
    "type(apple)"
   ]
  },
  {
   "cell_type": "code",
   "execution_count": 8,
   "metadata": {},
   "outputs": [],
   "source": [
    "# Looping"
   ]
  },
  {
   "cell_type": "code",
   "execution_count": 9,
   "metadata": {},
   "outputs": [],
   "source": [
    "apple = fruit_tuple('apple', 7)\n",
    "orange = fruit_tuple('orange', 10)\n",
    "kiwi = fruit_tuple('kiwi', 10)\n",
    "grape = fruit_tuple('grape', 6)\n",
    "\n",
    "list_of_fruits = [apple, orange, kiwi, grape]"
   ]
  },
  {
   "cell_type": "code",
   "execution_count": 10,
   "metadata": {},
   "outputs": [
    {
     "name": "stdout",
     "output_type": "stream",
     "text": [
      "# of fruits: 4\n",
      "Average yum_score is: 8.25\n"
     ]
    }
   ],
   "source": [
    "count = 0\n",
    "total = 0\n",
    "for fruit in list_of_fruits:\n",
    "    count += 1\n",
    "    total += fruit.yum_score\n",
    "avg = total / count\n",
    "\n",
    "print('# of fruits: {}'. format(count))\n",
    "print('Average yum_score is: {}'. format(avg))"
   ]
  },
  {
   "cell_type": "code",
   "execution_count": null,
   "metadata": {},
   "outputs": [],
   "source": []
  }
 ],
 "metadata": {
  "kernelspec": {
   "display_name": "Python 3",
   "language": "python",
   "name": "python3"
  },
  "language_info": {
   "codemirror_mode": {
    "name": "ipython",
    "version": 3
   },
   "file_extension": ".py",
   "mimetype": "text/x-python",
   "name": "python",
   "nbconvert_exporter": "python",
   "pygments_lexer": "ipython3",
   "version": "3.5.4"
  }
 },
 "nbformat": 4,
 "nbformat_minor": 2
}
