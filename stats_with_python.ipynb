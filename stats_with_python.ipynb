{
 "cells": [
  {
   "cell_type": "code",
   "execution_count": 1,
   "metadata": {},
   "outputs": [],
   "source": [
    "import numpy as np\n",
    "import statistics as stats\n",
    "import seaborn as sns\n",
    "%matplotlib inline"
   ]
  },
  {
   "cell_type": "markdown",
   "metadata": {},
   "source": [
    "# Basics\n",
    "* Range = max - min\n",
    "* Midrange = average of max and min"
   ]
  },
  {
   "cell_type": "code",
   "execution_count": 2,
   "metadata": {},
   "outputs": [],
   "source": [
    "a = np.random.randint(0, 1000, 5)\n",
    "a = np.append(a, a[0])  # Repeat first element\n",
    "a = np.append(a, 2000)  # Add outlier"
   ]
  },
  {
   "cell_type": "code",
   "execution_count": 3,
   "metadata": {},
   "outputs": [
    {
     "name": "stdout",
     "output_type": "stream",
     "text": [
      "sorted a: [562, 651, 734, 812, 812, 839, 2000]\n",
      "range: 1438, midrange: 1281.000000, avg: 915.714286, median: 812, mode: 812\n"
     ]
    }
   ],
   "source": [
    "range_ = np.ptp(a)\n",
    "midrange = (np.max(a) + np.min(a)) / 2\n",
    "avg = np.mean(a)\n",
    "median = np.median(a)\n",
    "mode = stats.mode(a)\n",
    "\n",
    "print('sorted a: %s' % sorted(a))\n",
    "print('range: %d, midrange: %f, avg: %f, median: %d, mode: %d' % (range_, midrange, avg, median, mode))"
   ]
  },
  {
   "cell_type": "markdown",
   "metadata": {},
   "source": [
    "## Notes:\n",
    "* Mean is more sensitive to outliers than median\n",
    "* There's no mode if multiple values occur most often\n",
    "* Median won't change even if values other than the middle change"
   ]
  },
  {
   "cell_type": "markdown",
   "metadata": {},
   "source": [
    "# IQR (Interquartile Range) & Outliers\n",
    "* IQR = (median of the large half) - (median of small half)\n",
    "* Outlier is either (outlier < Q1 - 1.5 x IQR) or (Q3 + 1.5 x IQR < outlier)"
   ]
  },
  {
   "cell_type": "code",
   "execution_count": 4,
   "metadata": {},
   "outputs": [],
   "source": [
    "def get_iqr(a):\n",
    "    a = sorted(a)\n",
    "    len_a = len(a)\n",
    "    if len_a % 2 == 0:\n",
    "        half_point = int(len_a / 2)\n",
    "        q25 = np.median(a[0: half_point])\n",
    "        q75 = np.median(a[half_point: ])\n",
    "    else:\n",
    "        half_point = int((len_a - 1) / 2)\n",
    "        q25 = np.median(a[0: half_point])\n",
    "        q75 = np.median(a[half_point + 1: ])\n",
    "    return q75 - q25"
   ]
  },
  {
   "cell_type": "code",
   "execution_count": 5,
   "metadata": {},
   "outputs": [
    {
     "data": {
      "text/plain": [
       "188.0"
      ]
     },
     "execution_count": 5,
     "metadata": {},
     "output_type": "execute_result"
    }
   ],
   "source": [
    "get_iqr(a)"
   ]
  },
  {
   "cell_type": "markdown",
   "metadata": {},
   "source": [
    "## Numpy's implementation has different values!?\n",
    "https://stackoverflow.com/questions/42838554/np-percentile-not-equal-to-quartiles"
   ]
  },
  {
   "cell_type": "code",
   "execution_count": 6,
   "metadata": {},
   "outputs": [
    {
     "data": {
      "text/plain": [
       "133.0"
      ]
     },
     "execution_count": 6,
     "metadata": {},
     "output_type": "execute_result"
    }
   ],
   "source": [
    "q75, q25 = np.percentile(a, (75 , 25))\n",
    "iqr = q75 - q25\n",
    "iqr"
   ]
  },
  {
   "cell_type": "code",
   "execution_count": 7,
   "metadata": {},
   "outputs": [
    {
     "data": {
      "text/plain": [
       "133.0"
      ]
     },
     "execution_count": 7,
     "metadata": {},
     "output_type": "execute_result"
    }
   ],
   "source": [
    "q75, q25 = np.percentile(a, (75 , 25), interpolation='midpoint')\n",
    "iqr = q75 - q25\n",
    "iqr"
   ]
  },
  {
   "cell_type": "markdown",
   "metadata": {},
   "source": [
    "# Box Plot"
   ]
  },
  {
   "cell_type": "code",
   "execution_count": 8,
   "metadata": {},
   "outputs": [
    {
     "data": {
      "image/png": "[encoded data removed]",
      "text/plain": [
       "<matplotlib.figure.Figure at 0x107dc4048>"
      ]
     },
     "metadata": {},
     "output_type": "display_data"
    }
   ],
   "source": [
    "ax = sns.boxplot(x=a, linewidth=3)"
   ]
  },
  {
   "cell_type": "markdown",
   "metadata": {},
   "source": [
    "# Variance, Standard Deviation, & Z-score\n",
    "* Variance is the average of squared difference b/w each value and average\n",
    "* Std = variance ^ (1/2)\n",
    "* Z-score: how many standard deviation is the value away from the average?"
   ]
  },
  {
   "cell_type": "code",
   "execution_count": 9,
   "metadata": {},
   "outputs": [
    {
     "name": "stdout",
     "output_type": "stream",
     "text": [
      "variance: 204468.775510, standard deviation: 452.182237\n"
     ]
    }
   ],
   "source": [
    "var = np.var(a)\n",
    "std = np.std(a)\n",
    "print('variance: %f, standard deviation: %f' % (var, std))"
   ]
  },
  {
   "cell_type": "markdown",
   "metadata": {},
   "source": [
    "## Notes:\n",
    "* Standard Deviation goes with Mean (good for data without outliers)\n",
    "* IQR goes with Median (good for data with outliers)\n",
    "* Sample variance: divide by n - 1 instead of n"
   ]
  },
  {
   "cell_type": "code",
   "execution_count": 10,
   "metadata": {},
   "outputs": [
    {
     "name": "stdout",
     "output_type": "stream",
     "text": [
      "sample variance: 238546.904762, sample standard deviation: 488.412638\n"
     ]
    }
   ],
   "source": [
    "sample_var = np.var(a, ddof=1)\n",
    "sample_std = np.std(a, ddof=1)\n",
    "print('sample variance: %f, sample standard deviation: %f' % (sample_var, sample_std))"
   ]
  },
  {
   "cell_type": "markdown",
   "metadata": {},
   "source": [
    "## Normal Distribution\n",
    "* Early statisticians saw this curve repeatedly, and named it 'normal'\n",
    "* 68-95-99.7 Rule (% b/w -1 std and 1 std, -2 and 2, -3 and 3)\n",
    "\n",
    "## Skewed Distribution\n",
    "* Skewed distribution is when mean and median are different\n",
    "* Left-skewed distribution (long tail at left) has mean to the left of median\n",
    "http://www.rapidlearningcenter.com/mathematics/introductory-statistics/07-Density-Curves.html"
   ]
  },
  {
   "cell_type": "markdown",
   "metadata": {},
   "source": [
    "# MAD (Mean Absolute Deviation)\n",
    "* MAD is the average of absolute difference b/w each value and average"
   ]
  },
  {
   "cell_type": "code",
   "execution_count": 11,
   "metadata": {},
   "outputs": [],
   "source": [
    "def get_mad(a):\n",
    "    avg = np.mean(a)\n",
    "    return np.mean(np.absolute(a - avg))"
   ]
  },
  {
   "cell_type": "code",
   "execution_count": 12,
   "metadata": {},
   "outputs": [
    {
     "data": {
      "text/plain": [
       "309.79591836734693"
      ]
     },
     "execution_count": 12,
     "metadata": {},
     "output_type": "execute_result"
    }
   ],
   "source": [
    "get_mad(a)"
   ]
  },
  {
   "cell_type": "code",
   "execution_count": null,
   "metadata": {},
   "outputs": [],
   "source": []
  }
 ],
 "metadata": {
  "kernelspec": {
   "display_name": "Python 3",
   "language": "python",
   "name": "python3"
  },
  "language_info": {
   "codemirror_mode": {
    "name": "ipython",
    "version": 3
   },
   "file_extension": ".py",
   "mimetype": "text/x-python",
   "name": "python",
   "nbconvert_exporter": "python",
   "pygments_lexer": "ipython3",
   "version": "3.5.4"
  }
 },
 "nbformat": 4,
 "nbformat_minor": 2
}
