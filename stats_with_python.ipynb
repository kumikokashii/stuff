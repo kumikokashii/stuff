{
 "cells": [
  {
   "cell_type": "code",
   "execution_count": 1,
   "metadata": {},
   "outputs": [],
   "source": [
    "import numpy as np\n",
    "import statistics as stats\n",
    "from scipy import stats as spstats\n",
    "import seaborn as sns\n",
    "sns.set(font_scale=1.2)\n",
    "import matplotlib.pyplot as plt\n",
    "import math\n",
    "%matplotlib inline"
   ]
  },
  {
   "cell_type": "markdown",
   "metadata": {},
   "source": [
    "# Basics\n",
    "* Range = max - min\n",
    "* Midrange = average of max and min"
   ]
  },
  {
   "cell_type": "code",
   "execution_count": 2,
   "metadata": {},
   "outputs": [],
   "source": [
    "a = np.random.randint(0, 1000, 5)\n",
    "a = np.append(a, a[0])  # Repeat first element\n",
    "a = np.append(a, 2000)  # Add outlier"
   ]
  },
  {
   "cell_type": "code",
   "execution_count": 3,
   "metadata": {},
   "outputs": [
    {
     "name": "stdout",
     "output_type": "stream",
     "text": [
      "sorted a: [83, 618, 666, 666, 839, 911, 2000]\n",
      "range: 1917, midrange: 1041.500000, avg: 826.142857, median: 666, mode: 666\n"
     ]
    }
   ],
   "source": [
    "range_ = np.ptp(a)\n",
    "midrange = (np.max(a) + np.min(a)) / 2\n",
    "avg = np.mean(a)\n",
    "median = np.median(a)\n",
    "mode = stats.mode(a)\n",
    "\n",
    "print('sorted a: %s' % sorted(a))\n",
    "print('range: %d, midrange: %f, avg: %f, median: %d, mode: %d' % (range_, midrange, avg, median, mode))"
   ]
  },
  {
   "cell_type": "markdown",
   "metadata": {},
   "source": [
    "## Notes:\n",
    "* Mean is more sensitive to outliers than median\n",
    "* There's no mode if multiple values occur most often\n",
    "* Median won't change even if values other than the middle change"
   ]
  },
  {
   "cell_type": "markdown",
   "metadata": {},
   "source": [
    "# IQR (Interquartile Range) & Outliers\n",
    "* IQR = (median of the large half) - (median of small half)\n",
    "* Outlier is either (outlier < Q1 - 1.5 x IQR) or (Q3 + 1.5 x IQR < outlier)"
   ]
  },
  {
   "cell_type": "code",
   "execution_count": 4,
   "metadata": {},
   "outputs": [],
   "source": [
    "def get_iqr(a):\n",
    "    a = sorted(a)\n",
    "    len_a = len(a)\n",
    "    if len_a % 2 == 0:\n",
    "        half_point = int(len_a / 2)\n",
    "        q25 = np.median(a[0: half_point])\n",
    "        q75 = np.median(a[half_point: ])\n",
    "    else:\n",
    "        half_point = int((len_a - 1) / 2)\n",
    "        q25 = np.median(a[0: half_point])\n",
    "        q75 = np.median(a[half_point + 1: ])\n",
    "    return q75 - q25"
   ]
  },
  {
   "cell_type": "code",
   "execution_count": 5,
   "metadata": {},
   "outputs": [
    {
     "data": {
      "text/plain": [
       "293.0"
      ]
     },
     "execution_count": 5,
     "metadata": {},
     "output_type": "execute_result"
    }
   ],
   "source": [
    "get_iqr(a)"
   ]
  },
  {
   "cell_type": "markdown",
   "metadata": {},
   "source": [
    "## Numpy's implementation has different values!?\n",
    "https://stackoverflow.com/questions/42838554/np-percentile-not-equal-to-quartiles"
   ]
  },
  {
   "cell_type": "code",
   "execution_count": 6,
   "metadata": {},
   "outputs": [
    {
     "data": {
      "text/plain": [
       "233.0"
      ]
     },
     "execution_count": 6,
     "metadata": {},
     "output_type": "execute_result"
    }
   ],
   "source": [
    "q75, q25 = np.percentile(a, (75 , 25))\n",
    "iqr = q75 - q25\n",
    "iqr"
   ]
  },
  {
   "cell_type": "code",
   "execution_count": 7,
   "metadata": {},
   "outputs": [
    {
     "data": {
      "text/plain": [
       "233.0"
      ]
     },
     "execution_count": 7,
     "metadata": {},
     "output_type": "execute_result"
    }
   ],
   "source": [
    "q75, q25 = np.percentile(a, (75 , 25), interpolation='midpoint')\n",
    "iqr = q75 - q25\n",
    "iqr"
   ]
  },
  {
   "cell_type": "markdown",
   "metadata": {},
   "source": [
    "## Box Plot"
   ]
  },
  {
   "cell_type": "code",
   "execution_count": 8,
   "metadata": {},
   "outputs": [
    {
     "data": {
      "image/png": "[encoded data removed]",
      "text/plain": [
       "<matplotlib.figure.Figure at 0x113b9eba8>"
      ]
     },
     "metadata": {},
     "output_type": "display_data"
    }
   ],
   "source": [
    "ax =sns.boxplot(x=a, linewidth=3)"
   ]
  },
  {
   "cell_type": "markdown",
   "metadata": {},
   "source": [
    "# Variance, Standard Deviation, & Z-score\n",
    "* Variance is the average of squared difference b/w each value and average\n",
    "* Std = variance ^ (1/2)\n",
    "* Z-score: how many standard deviation is the value away from the average?"
   ]
  },
  {
   "cell_type": "code",
   "execution_count": 9,
   "metadata": {},
   "outputs": [
    {
     "name": "stdout",
     "output_type": "stream",
     "text": [
      "variance: 290311.836735, standard deviation: 538.805936\n"
     ]
    }
   ],
   "source": [
    "var = np.var(a)\n",
    "std = np.std(a)\n",
    "print('variance: %f, standard deviation: %f' % (var, std))"
   ]
  },
  {
   "cell_type": "markdown",
   "metadata": {},
   "source": [
    "## Notes:\n",
    "* Standard Deviation goes with Mean (good for data without outliers)\n",
    "* IQR goes with Median (good for data with outliers)\n",
    "* Sample variance: divide by n - 1 instead of n"
   ]
  },
  {
   "cell_type": "code",
   "execution_count": 10,
   "metadata": {},
   "outputs": [
    {
     "name": "stdout",
     "output_type": "stream",
     "text": [
      "sample variance: 338697.142857, sample standard deviation: 581.976926\n"
     ]
    }
   ],
   "source": [
    "sample_var = np.var(a, ddof=1)\n",
    "sample_std = np.std(a, ddof=1)\n",
    "print('sample variance: %f, sample standard deviation: %f' % (sample_var, sample_std))"
   ]
  },
  {
   "cell_type": "markdown",
   "metadata": {},
   "source": [
    "## Normal Distribution\n",
    "* Early statisticians saw this curve repeatedly, and named it 'normal'\n",
    "* 68-95-99.7 rule (% b/w -1 std and 1 std, -2 and 2, -3 and 3)\n",
    "* Mean = median\n",
    "\n",
    "## Skewed Distribution\n",
    "* Skewed distribution is when mean and median are different\n",
    "* Left-skewed distribution (long tail at left) has mean to the left of median"
   ]
  },
  {
   "cell_type": "code",
   "execution_count": 11,
   "metadata": {},
   "outputs": [
    {
     "data": {
      "image/png": "[encoded data removed]",
      "text/plain": [
       "<matplotlib.figure.Figure at 0x113c41358>"
      ]
     },
     "metadata": {},
     "output_type": "display_data"
    }
   ],
   "source": [
    "# Generate values\n",
    "nd = np.random.normal(0, 1, 10**6)\n",
    "\n",
    "ls = spstats.skewnorm.rvs(-5, size=10**6)\n",
    "ls_mean = np.mean(ls)\n",
    "ls_median = np.median(ls)\n",
    "\n",
    "# Plot\n",
    "_, (ax1, ax2) = plt.subplots(1, 2, figsize=(10, 3))\n",
    "\n",
    "sns.distplot(nd, ax=ax1)\n",
    "ax1.set_title('Normal Distribution')\n",
    "\n",
    "sns.distplot(ls, ax=ax2)\n",
    "ax2.axvline(ls_mean, color='#fb9898')\n",
    "ax2.axvline(ls_median, color='#FFB947')\n",
    "ax2.annotate('mean', xy=(ls_mean, 0.75), xytext=(ls_mean-1.5, 0.75), \n",
    "             arrowprops=dict(facecolor='#fb9898'))\n",
    "ax2.annotate('median', xy=(ls_median, 0.75), xytext=(ls_median+1, 0.75), \n",
    "             arrowprops=dict(facecolor='#FFB947'))\n",
    "ax2.set_title('Left-skewed Distribution');\n",
    "\n",
    "plt.show()"
   ]
  },
  {
   "cell_type": "markdown",
   "metadata": {},
   "source": [
    "## Area under the curve with Normal Distribution"
   ]
  },
  {
   "cell_type": "code",
   "execution_count": 12,
   "metadata": {},
   "outputs": [
    {
     "name": "stdout",
     "output_type": "stream",
     "text": [
      "Area under the curve up to x = 1.645000: 0.950015\n",
      "x which area under the curve up to is 0.950000: 1.644854\n"
     ]
    }
   ],
   "source": [
    "mean = 0\n",
    "sd = 1\n",
    "\n",
    "# Cumulative distribution function: given x_, find area under the curve where x <= x_\n",
    "x_1 = 1.645\n",
    "A_1 = spstats.norm.cdf(x=x_1, loc=mean, scale=sd)\n",
    "print('Area under the curve up to x = %f: %f' % (x_1, A_1))\n",
    "\n",
    "# Percent point function (inverse of cdf): Given A_, find x_ s.t. cdf(x_) = A\n",
    "A_2 = 0.95\n",
    "x_2 = spstats.norm.ppf(q=A_2, loc=mean, scale=sd)\n",
    "print('x which area under the curve up to is %f: %f' % (A_2, x_2))"
   ]
  },
  {
   "cell_type": "markdown",
   "metadata": {},
   "source": [
    "# MAD (Mean Absolute Deviation)\n",
    "* MAD is the average of absolute difference b/w each value and average"
   ]
  },
  {
   "cell_type": "code",
   "execution_count": 13,
   "metadata": {},
   "outputs": [],
   "source": [
    "def get_mad(a):\n",
    "    avg = np.mean(a)\n",
    "    return np.mean(np.absolute(a - avg))"
   ]
  },
  {
   "cell_type": "code",
   "execution_count": 14,
   "metadata": {},
   "outputs": [
    {
     "data": {
      "text/plain": [
       "363.30612244897958"
      ]
     },
     "execution_count": 14,
     "metadata": {},
     "output_type": "execute_result"
    }
   ],
   "source": [
    "get_mad(a)"
   ]
  },
  {
   "cell_type": "markdown",
   "metadata": {},
   "source": [
    "# Correlation & Covariance\n",
    "* Correlation of two variables, x and y, is the average of the product of xi's z-score and yi's z-score\n",
    "* Between -1 and 1\n",
    "* Absolute value is the strength, 1 being stongest, meaning a line goes through all points\n",
    "* Sign is the direction of the line (slope)\n",
    "\n",
    "\n",
    "* Covariance of two variables, x and y, is the average of the product of (xi - xmean) and (yi - ymean)\n",
    "* Sign is the direction of the line (slope)"
   ]
  },
  {
   "cell_type": "code",
   "execution_count": 15,
   "metadata": {},
   "outputs": [
    {
     "name": "stdout",
     "output_type": "stream",
     "text": [
      "correlation coefficient: 0.783670, covariance: 810.689744\n"
     ]
    },
    {
     "data": {
      "image/png": "[encoded data removed]",
      "text/plain": [
       "<matplotlib.figure.Figure at 0x113c5c5c0>"
      ]
     },
     "metadata": {},
     "output_type": "display_data"
    }
   ],
   "source": [
    "x = np.random.randint(0, 100, 100)\n",
    "y = x + np.random.normal(0, 25, 100)  # x with some noise\n",
    "\n",
    "r, p = spstats.pearsonr(x, y)\n",
    "c = np.cov(x, y)[0][1]\n",
    "\n",
    "print('correlation coefficient: %f, covariance: %f' % (r, c))\n",
    "ax =sns.regplot(x=x, y=y)"
   ]
  },
  {
   "cell_type": "markdown",
   "metadata": {},
   "source": [
    "# AB Test\n",
    "Find sample size n given...\n",
    "* Sample mean from Group A (population group)\n",
    "* Sample mean from Group B (alternative group)\n",
    "* Significance level (default 5%)\n",
    "* Power (default 80%)\n",
    "\n",
    "https://www.quora.com/How-should-I-determine-minimum-sample-size-for-a-site-A-B-test"
   ]
  },
  {
   "cell_type": "code",
   "execution_count": 16,
   "metadata": {},
   "outputs": [],
   "source": [
    "def get_min_sample_size(mean_pop, mean_alt, sig_level=0.05, power=0.8):\n",
    "    z_reliability = spstats.norm.ppf(1 - sig_level)\n",
    "    z_power = abs(spstats.norm.ppf(1 - power))\n",
    "    \n",
    "    first_part = mean_pop * (1 - mean_pop) + mean_alt * (1 - mean_alt)\n",
    "    second_part = ((z_reliability + z_power) / (mean_pop - mean_alt)) ** 2\n",
    "    \n",
    "    return math.ceil(first_part * second_part)"
   ]
  },
  {
   "cell_type": "code",
   "execution_count": 17,
   "metadata": {},
   "outputs": [
    {
     "name": "stdout",
     "output_type": "stream",
     "text": [
      "To get a statistically significant result with significance level of 5% and power of 80%, given population mean 0.10 and alternative group's mean 0.15, minimum sample size needed is 538.\n"
     ]
    }
   ],
   "source": [
    "mean_pop = 0.1\n",
    "mean_alt = 0.15\n",
    "sig_level=0.05\n",
    "power=0.8\n",
    "\n",
    "n = get_min_sample_size(mean_pop, mean_alt, sig_level, power)\n",
    "\n",
    "print('To get a statistically significant result with significance level of %d%% \\\n",
    "and power of %d%%, given population mean %.2f and alternative group\\'s mean %.2f, \\\n",
    "minimum sample size needed is %d.' % (sig_level*100, power*100, mean_pop, mean_alt, n))"
   ]
  },
  {
   "cell_type": "code",
   "execution_count": 18,
   "metadata": {},
   "outputs": [
    {
     "name": "stdout",
     "output_type": "stream",
     "text": [
      "z-score for 5% significance level: 1.644854\n",
      "z-score for 80% power: 0.841621\n"
     ]
    }
   ],
   "source": [
    "print('z-score for 5%% significance level: %f' % (spstats.norm.ppf(1 - 0.05)))\n",
    "print('z-score for 80%% power: %f' % (abs(spstats.norm.ppf(1 - 0.8))))"
   ]
  },
  {
   "cell_type": "code",
   "execution_count": null,
   "metadata": {},
   "outputs": [],
   "source": []
  }
 ],
 "metadata": {
  "kernelspec": {
   "display_name": "Python 3",
   "language": "python",
   "name": "python3"
  },
  "language_info": {
   "codemirror_mode": {
    "name": "ipython",
    "version": 3
   },
   "file_extension": ".py",
   "mimetype": "text/x-python",
   "name": "python",
   "nbconvert_exporter": "python",
   "pygments_lexer": "ipython3",
   "version": "3.5.4"
  }
 },
 "nbformat": 4,
 "nbformat_minor": 2
}
